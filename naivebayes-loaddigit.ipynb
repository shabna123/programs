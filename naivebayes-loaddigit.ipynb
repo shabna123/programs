{
 "cells": [
  {
   "cell_type": "code",
   "execution_count": 4,
   "id": "8abae106-d3b7-4ea3-b0eb-ff20997e1c5d",
   "metadata": {},
   "outputs": [],
   "source": [
    "import sklearn\n",
    "from matplotlib import pyplot as plt\n",
    "import pandas as pd\n",
    "import numpy as np\n",
    "from sklearn.naive_bayes import GaussianNB,BernoulliNB,MultinomialNB\n",
    "from sklearn.datasets import load_digits\n",
    "data=load_digits()"
   ]
  },
  {
   "cell_type": "code",
   "execution_count": 2,
   "id": "172b0b82-3057-4253-8065-0cb89e1e146a",
   "metadata": {},
   "outputs": [],
   "source": [
    "models={'gaussian':GaussianNB(),'bernoulli':BernoulliNB(),'multinomial':MultinomialNB()}"
   ]
  },
  {
   "cell_type": "code",
   "execution_count": 5,
   "id": "b053716b-f4ea-497b-a6c0-69c18f65b2f4",
   "metadata": {},
   "outputs": [],
   "source": [
    "x=data[\"data\"]\n",
    "y=data[\"target\"]"
   ]
  },
  {
   "cell_type": "code",
   "execution_count": 6,
   "id": "97cf2420-3945-4d74-b57c-83ced3642b60",
   "metadata": {},
   "outputs": [
    {
     "name": "stdout",
     "output_type": "stream",
     "text": [
      "gaussian 0.8069281956050759\n",
      "bernoulli 0.8241736304549674\n",
      "multinomial 0.8703497369235531\n"
     ]
    }
   ],
   "source": [
    "from sklearn.model_selection import cross_val_score\n",
    "for i in models:\n",
    "    model=models[i]\n",
    "    scores=cross_val_score(model,x,y,cv=5)\n",
    "    print(i,scores.mean())\n"
   ]
  },
  {
   "cell_type": "code",
   "execution_count": 7,
   "id": "3de3a909-f475-4c9d-8b1d-fd985cc9c634",
   "metadata": {},
   "outputs": [
    {
     "data": {
      "text/plain": [
       "0.8977777777777778"
      ]
     },
     "execution_count": 7,
     "metadata": {},
     "output_type": "execute_result"
    }
   ],
   "source": [
    "from sklearn.model_selection import train_test_split\n",
    "xtrain, xtest,ytrain,ytest=train_test_split(x,y,train_size=.75,random_state=1)\n",
    "model=MultinomialNB()\n",
    "model.fit(xtrain,ytrain)\n",
    "model.score(xtest,ytest)"
   ]
  },
  {
   "cell_type": "code",
   "execution_count": null,
   "id": "27b8da92-5e9d-4025-b462-c5d20d91464b",
   "metadata": {},
   "outputs": [],
   "source": []
  }
 ],
 "metadata": {
  "kernelspec": {
   "display_name": "Python 3 (ipykernel)",
   "language": "python",
   "name": "python3"
  },
  "language_info": {
   "codemirror_mode": {
    "name": "ipython",
    "version": 3
   },
   "file_extension": ".py",
   "mimetype": "text/x-python",
   "name": "python",
   "nbconvert_exporter": "python",
   "pygments_lexer": "ipython3",
   "version": "3.9.7"
  }
 },
 "nbformat": 4,
 "nbformat_minor": 5
}
