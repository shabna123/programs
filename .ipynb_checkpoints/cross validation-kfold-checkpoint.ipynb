{
 "cells": [
  {
   "cell_type": "code",
   "execution_count": 1,
   "id": "9570b89c-8ecb-48b4-83a5-f6b4546bb83e",
   "metadata": {},
   "outputs": [],
   "source": [
    "import sklearn\n",
    "from matplotlib import pyplot as plt\n",
    "import pandas as pd\n",
    "import numpy as np"
   ]
  },
  {
   "cell_type": "code",
   "execution_count": 2,
   "id": "8b720af3-35a3-4e0a-abb8-985d8b084c87",
   "metadata": {},
   "outputs": [],
   "source": [
    "data=np.array([100,200,300,400,500,600,700,800])"
   ]
  },
  {
   "cell_type": "code",
   "execution_count": 3,
   "id": "e11bdd66-9fe8-4733-974d-636cfca573e2",
   "metadata": {},
   "outputs": [],
   "source": [
    "from sklearn.model_selection import KFold"
   ]
  },
  {
   "cell_type": "code",
   "execution_count": 5,
   "id": "0bef90dc-8222-4a35-b2a9-1cac0282668e",
   "metadata": {},
   "outputs": [],
   "source": [
    "#data devided in to 4 parts and iterated 4 times.\n",
    "#one part of data used for testing and other three part is used for training\n",
    "fld=KFold(4)"
   ]
  },
  {
   "cell_type": "code",
   "execution_count": 8,
   "id": "b00abdc8-23f9-4d7a-8b4b-62cc44f7d885",
   "metadata": {},
   "outputs": [
    {
     "name": "stdout",
     "output_type": "stream",
     "text": [
      "traindata= [2 3 4 5 6 7]\n",
      "testdata= [0 1]\n",
      "--------------------------------\n",
      "traindata= [0 1 4 5 6 7]\n",
      "testdata= [2 3]\n",
      "--------------------------------\n",
      "traindata= [0 1 2 3 6 7]\n",
      "testdata= [4 5]\n",
      "--------------------------------\n",
      "traindata= [0 1 2 3 4 5]\n",
      "testdata= [6 7]\n",
      "--------------------------------\n"
     ]
    }
   ],
   "source": [
    "for i in fld.split(data):\n",
    "    train_index,test_index=i\n",
    "    print(\"traindata=\",train_index)\n",
    "    print(\"testdata=\",test_index)\n",
    "    print(\"--------------------------------\")"
   ]
  },
  {
   "cell_type": "code",
   "execution_count": null,
   "id": "0470fedc-29c4-4db9-84e2-da6683adaac6",
   "metadata": {},
   "outputs": [],
   "source": []
  }
 ],
 "metadata": {
  "kernelspec": {
   "display_name": "Python 3 (ipykernel)",
   "language": "python",
   "name": "python3"
  },
  "language_info": {
   "codemirror_mode": {
    "name": "ipython",
    "version": 3
   },
   "file_extension": ".py",
   "mimetype": "text/x-python",
   "name": "python",
   "nbconvert_exporter": "python",
   "pygments_lexer": "ipython3",
   "version": "3.9.7"
  }
 },
 "nbformat": 4,
 "nbformat_minor": 5
}
