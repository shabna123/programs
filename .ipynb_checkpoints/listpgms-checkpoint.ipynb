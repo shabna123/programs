{
 "cells": [
  {
   "cell_type": "code",
   "execution_count": null,
   "metadata": {
    "colab": {
     "base_uri": "https://localhost:8080/"
    },
    "id": "P_YF86G9Uop-",
    "outputId": "121bfd65-8cba-4a9d-ab18-df0e000d3274"
   },
   "outputs": [
    {
     "name": "stdout",
     "output_type": "stream",
     "text": [
      "llo\n"
     ]
    }
   ],
   "source": [
    "\n",
    "b = \"Hello, World!\"\n",
    "\n",
    "print(b[2:5])"
   ]
  },
  {
   "cell_type": "markdown",
   "metadata": {
    "id": "hbUCQ6xa22II"
   },
   "source": [
    "List programs"
   ]
  },
  {
   "cell_type": "code",
   "execution_count": null,
   "metadata": {
    "colab": {
     "base_uri": "https://localhost:8080/"
    },
    "id": "U2JEoCo8QlE-",
    "outputId": "3f525a6d-da33-4bef-9796-ee6ecbaa1411"
   },
   "outputs": [
    {
     "name": "stdout",
     "output_type": "stream",
     "text": [
      "Hello\n"
     ]
    }
   ],
   "source": [
    "print(b[:5])\n",
    "\n"
   ]
  },
  {
   "cell_type": "code",
   "execution_count": null,
   "metadata": {
    "colab": {
     "base_uri": "https://localhost:8080/"
    },
    "id": "1ZXdU6sGQjxc",
    "outputId": "7f83c4ac-adf1-40a5-db47-eb9693615f6d"
   },
   "outputs": [
    {
     "name": "stdout",
     "output_type": "stream",
     "text": [
      "llo, World!\n"
     ]
    }
   ],
   "source": [
    "b = \"Hello, World!\"\n",
    "\n",
    "print(b[2:])"
   ]
  },
  {
   "cell_type": "code",
   "execution_count": null,
   "metadata": {
    "colab": {
     "base_uri": "https://localhost:8080/"
    },
    "id": "Sr-wJduzSb3w",
    "outputId": "0b055087-00bf-4873-a1c1-2a561a2de6d7"
   },
   "outputs": [
    {
     "name": "stdout",
     "output_type": "stream",
     "text": [
      "orl\n"
     ]
    }
   ],
   "source": [
    "b = \"Hello, World!\"\n",
    "\n",
    "print(b[-5:-2])"
   ]
  },
  {
   "cell_type": "code",
   "execution_count": null,
   "metadata": {
    "colab": {
     "base_uri": "https://localhost:8080/"
    },
    "id": "LboTuH2TSb7u",
    "outputId": "bd314d95-cbee-46e3-8511-ab9c7a385464"
   },
   "outputs": [
    {
     "name": "stdout",
     "output_type": "stream",
     "text": [
      "HELLO, WORLD!\n"
     ]
    }
   ],
   "source": [
    "a = \"Hello, World!\"\n",
    "\n",
    "print(a.upper())"
   ]
  },
  {
   "cell_type": "code",
   "execution_count": null,
   "metadata": {
    "colab": {
     "base_uri": "https://localhost:8080/"
    },
    "id": "7RpUljJ2Sb_r",
    "outputId": "66edd29d-fe1f-4a13-f86a-937464886cff"
   },
   "outputs": [
    {
     "name": "stdout",
     "output_type": "stream",
     "text": [
      "hello, world!\n"
     ]
    }
   ],
   "source": [
    "a = \"Hello, World!\"\n",
    "\n",
    "print(a.lower())"
   ]
  },
  {
   "cell_type": "code",
   "execution_count": null,
   "metadata": {
    "colab": {
     "base_uri": "https://localhost:8080/"
    },
    "id": "dp_I6y4gScDj",
    "outputId": "79d53582-8994-41b6-8b1e-cbc185eedbed"
   },
   "outputs": [
    {
     "name": "stdout",
     "output_type": "stream",
     "text": [
      "Jello, World!\n"
     ]
    }
   ],
   "source": [
    "a = \"Hello, World!\"\n",
    "\n",
    "print(a.replace(\"H\", \"J\"))"
   ]
  },
  {
   "cell_type": "code",
   "execution_count": null,
   "metadata": {
    "colab": {
     "base_uri": "https://localhost:8080/"
    },
    "id": "RQ-2Jnt3ScGp",
    "outputId": "130ec702-ca27-408c-c3be-0f49965f1b5e"
   },
   "outputs": [
    {
     "name": "stdout",
     "output_type": "stream",
     "text": [
      "['Hello', ' World!']\n"
     ]
    }
   ],
   "source": [
    "a = \"Hello, World!\"\n",
    "\n",
    "print(a.split(\",\"))"
   ]
  },
  {
   "cell_type": "code",
   "execution_count": null,
   "metadata": {
    "colab": {
     "base_uri": "https://localhost:8080/"
    },
    "id": "FjvUWfIoScJy",
    "outputId": "820e96d4-2c19-426d-eee9-188d77b0a9d4"
   },
   "outputs": [
    {
     "name": "stdout",
     "output_type": "stream",
     "text": [
      "['apple', 'banana', 'cherry']\n"
     ]
    }
   ],
   "source": [
    "thislist = [\"apple\", \"banana\", \"cherry\"]\n",
    "\n",
    "print(thislist)"
   ]
  },
  {
   "cell_type": "code",
   "execution_count": null,
   "metadata": {
    "colab": {
     "base_uri": "https://localhost:8080/"
    },
    "id": "uj4Dn253cK_b",
    "outputId": "b4ce96d2-fd62-41b2-ab96-2c20cbda30d0"
   },
   "outputs": [
    {
     "name": "stdout",
     "output_type": "stream",
     "text": [
      "['apple', 'banana', 'cherry', 'apple', 'cherry']\n"
     ]
    }
   ],
   "source": [
    "thislist = [\"apple\", \"banana\", \"cherry\", \"apple\", \"cherry\"]\n",
    "\n",
    "print(thislist)"
   ]
  },
  {
   "cell_type": "code",
   "execution_count": null,
   "metadata": {
    "colab": {
     "base_uri": "https://localhost:8080/"
    },
    "id": "FVdtRMg3cLDP",
    "outputId": "ea75902b-95a4-447e-ae31-03120438a75f"
   },
   "outputs": [
    {
     "name": "stdout",
     "output_type": "stream",
     "text": [
      "3\n"
     ]
    }
   ],
   "source": [
    "thislist = [\"apple\", \"banana\", \"cherry\"]\n",
    "\n",
    "print(len(thislist))"
   ]
  },
  {
   "cell_type": "code",
   "execution_count": null,
   "metadata": {
    "colab": {
     "base_uri": "https://localhost:8080/"
    },
    "id": "ZriKqRjbcLGQ",
    "outputId": "370a2014-4c8a-4d20-f398-00bfb64fdcce"
   },
   "outputs": [
    {
     "name": "stdout",
     "output_type": "stream",
     "text": [
      "['apple', 'banana', 'cherry']\n",
      "[1, 5, 7, 9, 3]\n",
      "[True, False, False]\n"
     ]
    }
   ],
   "source": [
    "list1 = [\"apple\", \"banana\", \"cherry\"]\n",
    "\n",
    "list2 = [1, 5, 7, 9, 3]\n",
    "\n",
    "list3 = [True, False, False]\n",
    "print(list1)\n",
    "print(list2)\n",
    "print(list3)"
   ]
  },
  {
   "cell_type": "code",
   "execution_count": null,
   "metadata": {
    "colab": {
     "base_uri": "https://localhost:8080/"
    },
    "id": "Qg0zQHHxcLKB",
    "outputId": "146971a5-6bf3-4d56-918a-20eda56ceda0"
   },
   "outputs": [
    {
     "name": "stdout",
     "output_type": "stream",
     "text": [
      "<class 'list'>\n"
     ]
    }
   ],
   "source": [
    "mylist = [\"apple\", \"banana\", \"cherry\"]\n",
    "\n",
    "print(type(mylist))"
   ]
  },
  {
   "cell_type": "code",
   "execution_count": null,
   "metadata": {
    "colab": {
     "base_uri": "https://localhost:8080/"
    },
    "id": "g5S_ih4lda1F",
    "outputId": "70d7b301-4d10-45c9-be07-3595df7ac420"
   },
   "outputs": [
    {
     "name": "stdout",
     "output_type": "stream",
     "text": [
      "['apple', 'banana', 'cherry']\n"
     ]
    }
   ],
   "source": [
    "thislist = list((\"apple\", \"banana\", \"cherry\")) # note the double round-brackets\n",
    "\n",
    "print(thislist)"
   ]
  },
  {
   "cell_type": "code",
   "execution_count": null,
   "metadata": {
    "colab": {
     "base_uri": "https://localhost:8080/"
    },
    "id": "087XAy0Wda9d",
    "outputId": "54e1b2a9-1e2c-4cbb-e0d6-89f4ef805bd4"
   },
   "outputs": [
    {
     "name": "stdout",
     "output_type": "stream",
     "text": [
      "['apple', 'banana', 'cherry']\n"
     ]
    }
   ],
   "source": [
    "thislist = list((\"apple\", \"banana\", \"cherry\")) # note the double round-brackets\n",
    "\n",
    "print(thislist)"
   ]
  },
  {
   "cell_type": "code",
   "execution_count": null,
   "metadata": {
    "colab": {
     "base_uri": "https://localhost:8080/"
    },
    "id": "54Gdy6TkdoMi",
    "outputId": "ab7ab4a3-0a6f-4d83-a5dd-2e8c50459d75"
   },
   "outputs": [
    {
     "name": "stdout",
     "output_type": "stream",
     "text": [
      "['apple', 'blackcurrant', 'cherry']\n"
     ]
    }
   ],
   "source": [
    "thislist = [\"apple\", \"banana\", \"cherry\"]\n",
    "\n",
    "thislist[1] = \"blackcurrant\"\n",
    "\n",
    "print(thislist)"
   ]
  },
  {
   "cell_type": "code",
   "execution_count": null,
   "metadata": {
    "colab": {
     "base_uri": "https://localhost:8080/"
    },
    "id": "sFuc1LNydoOl",
    "outputId": "b9af7272-9531-4467-cbc7-a1cc499b06f8"
   },
   "outputs": [
    {
     "name": "stdout",
     "output_type": "stream",
     "text": [
      "['apple', 'banana', 'cherry', 'orange']\n"
     ]
    }
   ],
   "source": [
    "thislist = [\"apple\", \"banana\", \"cherry\"]\n",
    "\n",
    "thislist.append(\"orange\")\n",
    "\n",
    "print(thislist)"
   ]
  },
  {
   "cell_type": "code",
   "execution_count": null,
   "metadata": {
    "colab": {
     "base_uri": "https://localhost:8080/"
    },
    "id": "3RhUWi20doSm",
    "outputId": "f3517b63-9507-43a4-9217-9549afa8ca2e"
   },
   "outputs": [
    {
     "name": "stdout",
     "output_type": "stream",
     "text": [
      "['apple', 'orange', 'banana', 'cherry']\n"
     ]
    }
   ],
   "source": [
    "thislist = [\"apple\", \"banana\", \"cherry\"]\n",
    "\n",
    "thislist.insert(1, \"orange\")\n",
    "\n",
    "print(thislist)"
   ]
  },
  {
   "cell_type": "code",
   "execution_count": null,
   "metadata": {
    "colab": {
     "base_uri": "https://localhost:8080/"
    },
    "id": "BCCqZ6KNdoUw",
    "outputId": "b0946c2b-e42c-49c0-958c-a9f27e1be1b9"
   },
   "outputs": [
    {
     "name": "stdout",
     "output_type": "stream",
     "text": [
      "['apple', 'banana', 'cherry', 'mango', 'pineapple', 'papaya']\n"
     ]
    }
   ],
   "source": [
    "thislist = [\"apple\", \"banana\", \"cherry\"]\n",
    "\n",
    "tropical = [\"mango\", \"pineapple\", \"papaya\"]\n",
    "\n",
    "thislist.extend(tropical)\n",
    "\n",
    "print(thislist)\n",
    "\n"
   ]
  },
  {
   "cell_type": "code",
   "execution_count": null,
   "metadata": {
    "colab": {
     "base_uri": "https://localhost:8080/"
    },
    "id": "IyKt7t1Hdoar",
    "outputId": "0aa51524-b0ff-4e86-cc4c-97144d5048f3"
   },
   "outputs": [
    {
     "name": "stdout",
     "output_type": "stream",
     "text": [
      "apple\n",
      "banana\n",
      "cherry\n"
     ]
    }
   ],
   "source": [
    "thislist = [\"apple\", \"banana\", \"cherry\"]\n",
    "\n",
    "for x in thislist:\n",
    "\n",
    "  print(x)\n",
    "\n"
   ]
  },
  {
   "cell_type": "code",
   "execution_count": null,
   "metadata": {
    "colab": {
     "base_uri": "https://localhost:8080/"
    },
    "id": "fXiQrupGdodv",
    "outputId": "000adaf8-02ed-4860-a4ce-91a5edde80c2"
   },
   "outputs": [
    {
     "name": "stdout",
     "output_type": "stream",
     "text": [
      "['banana', 'kiwi', 'mango', 'orange', 'pineapple']\n"
     ]
    }
   ],
   "source": [
    "thislist = [\"orange\", \"mango\", \"kiwi\", \"pineapple\", \"banana\"]\n",
    "\n",
    "thislist.sort()\n",
    "\n",
    "print(thislist)"
   ]
  },
  {
   "cell_type": "code",
   "execution_count": null,
   "metadata": {
    "colab": {
     "base_uri": "https://localhost:8080/"
    },
    "id": "GJ07hChVdofq",
    "outputId": "a20dee01-468c-465c-f7fc-8815a965907c"
   },
   "outputs": [
    {
     "name": "stdout",
     "output_type": "stream",
     "text": [
      "['pineapple', 'orange', 'mango', 'kiwi', 'banana']\n"
     ]
    }
   ],
   "source": [
    "thislist = [\"orange\", \"mango\", \"kiwi\", \"pineapple\", \"banana\"]\n",
    "\n",
    "thislist.sort(reverse = True)\n",
    "\n",
    "print(thislist)"
   ]
  },
  {
   "cell_type": "code",
   "execution_count": null,
   "metadata": {
    "colab": {
     "base_uri": "https://localhost:8080/"
    },
    "id": "5C1J9x-hcLQM",
    "outputId": "d29e4339-52d0-48b8-be87-b4d69350429f"
   },
   "outputs": [
    {
     "name": "stdout",
     "output_type": "stream",
     "text": [
      "[1, 4, 9]\n"
     ]
    }
   ],
   "source": [
    "a=[1,2,3]\n",
    "b=[]\n",
    "for i in a:\n",
    "  i=i*i\n",
    "  b.append(i)\n",
    "print(b)"
   ]
  },
  {
   "cell_type": "code",
   "execution_count": null,
   "metadata": {
    "id": "Ppt1sHq_T0pD"
   },
   "outputs": [],
   "source": [
    "b=[\"anu\",55,\"sini\",78,\"rony\",99]"
   ]
  },
  {
   "cell_type": "code",
   "execution_count": null,
   "metadata": {
    "colab": {
     "base_uri": "https://localhost:8080/"
    },
    "id": "ti-GELkbUpfi",
    "outputId": "b052ee21-7edb-452e-e6cf-8fb306f7c885"
   },
   "outputs": [
    {
     "data": {
      "text/plain": [
       "['anu', 55, 'sini', 78, 'rony', 99]"
      ]
     },
     "execution_count": 2,
     "metadata": {},
     "output_type": "execute_result"
    }
   ],
   "source": [
    "b"
   ]
  },
  {
   "cell_type": "code",
   "execution_count": null,
   "metadata": {
    "colab": {
     "base_uri": "https://localhost:8080/",
     "height": 35
    },
    "id": "Mr_-Q3PnUqAh",
    "outputId": "1b6798da-0b85-4418-cc6f-eb8620441276"
   },
   "outputs": [
    {
     "data": {
      "application/vnd.google.colaboratory.intrinsic+json": {
       "type": "string"
      },
      "text/plain": [
       "'anu'"
      ]
     },
     "execution_count": 60,
     "metadata": {},
     "output_type": "execute_result"
    }
   ],
   "source": [
    "b[0]"
   ]
  },
  {
   "cell_type": "code",
   "execution_count": null,
   "metadata": {
    "colab": {
     "base_uri": "https://localhost:8080/"
    },
    "id": "T1OVGK2hUqIK",
    "outputId": "9dfd4270-7861-4e4b-dfbb-9b54127012cd"
   },
   "outputs": [
    {
     "data": {
      "text/plain": [
       "99"
      ]
     },
     "execution_count": 61,
     "metadata": {},
     "output_type": "execute_result"
    }
   ],
   "source": [
    "b[-1]"
   ]
  },
  {
   "cell_type": "code",
   "execution_count": null,
   "metadata": {
    "colab": {
     "base_uri": "https://localhost:8080/"
    },
    "id": "emdxX8eJUqNJ",
    "outputId": "e1879d78-325c-4868-b082-497606886d96"
   },
   "outputs": [
    {
     "data": {
      "text/plain": [
       "['sini', 78, 'rony', 99]"
      ]
     },
     "execution_count": 5,
     "metadata": {},
     "output_type": "execute_result"
    }
   ],
   "source": [
    "b[2:]"
   ]
  },
  {
   "cell_type": "code",
   "execution_count": null,
   "metadata": {
    "colab": {
     "base_uri": "https://localhost:8080/"
    },
    "id": "v6UfkTyKUqSJ",
    "outputId": "a04bf92b-bf70-4e41-d958-04b95b8271f0"
   },
   "outputs": [
    {
     "data": {
      "text/plain": [
       "[55, 'sini', 78]"
      ]
     },
     "execution_count": 6,
     "metadata": {},
     "output_type": "execute_result"
    }
   ],
   "source": [
    "b[1:4]"
   ]
  },
  {
   "cell_type": "code",
   "execution_count": null,
   "metadata": {
    "colab": {
     "base_uri": "https://localhost:8080/"
    },
    "id": "Hk2sol8gUqWp",
    "outputId": "468053c1-40e8-4cba-9df1-eeedea406006"
   },
   "outputs": [
    {
     "data": {
      "text/plain": [
       "['sini', 78]"
      ]
     },
     "execution_count": 7,
     "metadata": {},
     "output_type": "execute_result"
    }
   ],
   "source": [
    "b[2:-2]"
   ]
  },
  {
   "cell_type": "code",
   "execution_count": null,
   "metadata": {
    "id": "xj1DYQ_AUqbM"
   },
   "outputs": [],
   "source": [
    "b[0]=\"binu\""
   ]
  },
  {
   "cell_type": "code",
   "execution_count": null,
   "metadata": {
    "colab": {
     "base_uri": "https://localhost:8080/"
    },
    "id": "c-F1XyksaBDv",
    "outputId": "cced579c-3d28-4203-9515-6db011cc2c2d"
   },
   "outputs": [
    {
     "data": {
      "text/plain": [
       "['binu', 55, 'sini', 78, 'rony', 99, 'rani']"
      ]
     },
     "execution_count": 66,
     "metadata": {},
     "output_type": "execute_result"
    }
   ],
   "source": [
    "b"
   ]
  },
  {
   "cell_type": "code",
   "execution_count": null,
   "metadata": {
    "id": "axzG0ixGaBM9"
   },
   "outputs": [],
   "source": [
    "b.append(\"rani\")"
   ]
  },
  {
   "cell_type": "code",
   "execution_count": null,
   "metadata": {
    "colab": {
     "base_uri": "https://localhost:8080/"
    },
    "id": "ng2w3BPXbR6z",
    "outputId": "41be3e80-d3ce-4200-b635-5f3604014b9f"
   },
   "outputs": [
    {
     "data": {
      "text/plain": [
       "['binu', 55, 'sini', 78, 'rony', 99, 'rani', 'rani']"
      ]
     },
     "execution_count": 69,
     "metadata": {},
     "output_type": "execute_result"
    }
   ],
   "source": [
    "b"
   ]
  },
  {
   "cell_type": "code",
   "execution_count": null,
   "metadata": {
    "id": "q39yYh6YbSBy"
   },
   "outputs": [],
   "source": [
    "b.insert(0,\"school\")"
   ]
  },
  {
   "cell_type": "code",
   "execution_count": null,
   "metadata": {
    "colab": {
     "base_uri": "https://localhost:8080/"
    },
    "id": "a9Br8rv3bSHy",
    "outputId": "036c9ecf-77b3-46cb-d2f0-9c654d984f3d"
   },
   "outputs": [
    {
     "data": {
      "text/plain": [
       "['school', 'binu', 55, 'sini', 78, 'rony', 99, 'rani', 'rani']"
      ]
     },
     "execution_count": 71,
     "metadata": {},
     "output_type": "execute_result"
    }
   ],
   "source": [
    "b\n"
   ]
  },
  {
   "cell_type": "code",
   "execution_count": null,
   "metadata": {
    "colab": {
     "base_uri": "https://localhost:8080/"
    },
    "id": "_8qqdS4xbSMC",
    "outputId": "cb36d7a7-f0d0-43ee-fc58-a1dfb3e40b58"
   },
   "outputs": [
    {
     "data": {
      "text/plain": [
       "9"
      ]
     },
     "execution_count": 72,
     "metadata": {},
     "output_type": "execute_result"
    }
   ],
   "source": [
    "len(b)"
   ]
  },
  {
   "cell_type": "code",
   "execution_count": null,
   "metadata": {
    "colab": {
     "base_uri": "https://localhost:8080/",
     "height": 35
    },
    "id": "MgGi8VvrcHJR",
    "outputId": "dbecd9a2-a85e-4a17-cadd-c650a727f30a"
   },
   "outputs": [
    {
     "data": {
      "application/vnd.google.colaboratory.intrinsic+json": {
       "type": "string"
      },
      "text/plain": [
       "'rani'"
      ]
     },
     "execution_count": 75,
     "metadata": {},
     "output_type": "execute_result"
    }
   ],
   "source": [
    "b.pop()"
   ]
  },
  {
   "cell_type": "code",
   "execution_count": null,
   "metadata": {
    "colab": {
     "base_uri": "https://localhost:8080/"
    },
    "id": "6HlbB-DscHP6",
    "outputId": "8025ecc3-412e-4c0c-f7ae-a4a51bbe1e61"
   },
   "outputs": [
    {
     "data": {
      "text/plain": [
       "['school', 'binu', 55, 'sini', 78, 'rony', 99]"
      ]
     },
     "execution_count": 76,
     "metadata": {},
     "output_type": "execute_result"
    }
   ],
   "source": [
    "b"
   ]
  },
  {
   "cell_type": "code",
   "execution_count": null,
   "metadata": {
    "colab": {
     "base_uri": "https://localhost:8080/",
     "height": 35
    },
    "id": "9Zqpq1mScHUx",
    "outputId": "c1357793-1c81-4530-fea9-a358ebf58d99"
   },
   "outputs": [
    {
     "data": {
      "application/vnd.google.colaboratory.intrinsic+json": {
       "type": "string"
      },
      "text/plain": [
       "'marks'"
      ]
     },
     "execution_count": 30,
     "metadata": {},
     "output_type": "execute_result"
    }
   ],
   "source": [
    "b.pop(8)"
   ]
  },
  {
   "cell_type": "code",
   "execution_count": null,
   "metadata": {
    "colab": {
     "base_uri": "https://localhost:8080/",
     "height": 35
    },
    "id": "vn5QnLEAcHYY",
    "outputId": "b6c1ed11-bcee-4e31-a719-85b632e8e501"
   },
   "outputs": [
    {
     "data": {
      "application/vnd.google.colaboratory.intrinsic+json": {
       "type": "string"
      },
      "text/plain": [
       "'rani'"
      ]
     },
     "execution_count": 31,
     "metadata": {},
     "output_type": "execute_result"
    }
   ],
   "source": [
    "b.pop(9)"
   ]
  },
  {
   "cell_type": "code",
   "execution_count": null,
   "metadata": {
    "colab": {
     "base_uri": "https://localhost:8080/"
    },
    "id": "1Z1UazVQcHbo",
    "outputId": "96798441-f173-4dad-defd-fb0d2691ab35"
   },
   "outputs": [
    {
     "data": {
      "text/plain": [
       "['school', 'binu', 55, 'sini', 78, 'rony', 99, 'rani', 'marks']"
      ]
     },
     "execution_count": 32,
     "metadata": {},
     "output_type": "execute_result"
    }
   ],
   "source": [
    "b"
   ]
  },
  {
   "cell_type": "code",
   "execution_count": null,
   "metadata": {
    "colab": {
     "base_uri": "https://localhost:8080/"
    },
    "id": "kEtuIw3IcHi4",
    "outputId": "25c70e82-5569-4d2d-8798-eb23c88b1975"
   },
   "outputs": [
    {
     "data": {
      "text/plain": [
       "9"
      ]
     },
     "execution_count": 33,
     "metadata": {},
     "output_type": "execute_result"
    }
   ],
   "source": [
    "len(b)"
   ]
  },
  {
   "cell_type": "code",
   "execution_count": null,
   "metadata": {
    "id": "R7rsLmjOcHmj"
   },
   "outputs": [],
   "source": [
    "del b[7]"
   ]
  },
  {
   "cell_type": "code",
   "execution_count": null,
   "metadata": {
    "colab": {
     "base_uri": "https://localhost:8080/"
    },
    "id": "KYzmtkqZenoM",
    "outputId": "98ba3a3c-da01-413b-cda9-19ad49e2ce68"
   },
   "outputs": [
    {
     "data": {
      "text/plain": [
       "['school', 'binu', 55, 'sini', 78, 'rony', 99, 'marks']"
      ]
     },
     "execution_count": 36,
     "metadata": {},
     "output_type": "execute_result"
    }
   ],
   "source": [
    "b"
   ]
  },
  {
   "cell_type": "code",
   "execution_count": null,
   "metadata": {
    "id": "AWreEDRRenzK"
   },
   "outputs": [],
   "source": [
    "b.clear()"
   ]
  },
  {
   "cell_type": "code",
   "execution_count": null,
   "metadata": {
    "id": "JFeANwauZWwa"
   },
   "outputs": [],
   "source": []
  },
  {
   "cell_type": "code",
   "execution_count": null,
   "metadata": {
    "id": "8nHS8tTVZWuk"
   },
   "outputs": [],
   "source": []
  },
  {
   "cell_type": "code",
   "execution_count": null,
   "metadata": {
    "colab": {
     "base_uri": "https://localhost:8080/"
    },
    "id": "u-5wqvmeen5K",
    "outputId": "418cecba-6c3e-4abd-e2d6-b1a6851ec43f"
   },
   "outputs": [
    {
     "data": {
      "text/plain": [
       "[]"
      ]
     },
     "execution_count": 39,
     "metadata": {},
     "output_type": "execute_result"
    }
   ],
   "source": [
    "b"
   ]
  },
  {
   "cell_type": "code",
   "execution_count": null,
   "metadata": {
    "colab": {
     "base_uri": "https://localhost:8080/"
    },
    "id": "_oLO0JYNfECy",
    "outputId": "a3a5870d-7505-4ebb-93c9-4858069b3707"
   },
   "outputs": [
    {
     "data": {
      "text/plain": [
       "0"
      ]
     },
     "execution_count": 40,
     "metadata": {},
     "output_type": "execute_result"
    }
   ],
   "source": [
    "len(b)"
   ]
  },
  {
   "cell_type": "code",
   "execution_count": null,
   "metadata": {
    "id": "X7P0QRobfOrB"
   },
   "outputs": [],
   "source": [
    "b.insert(0,\"school\")"
   ]
  },
  {
   "cell_type": "code",
   "execution_count": null,
   "metadata": {
    "colab": {
     "base_uri": "https://localhost:8080/"
    },
    "id": "ZmfQaGiYfOxY",
    "outputId": "a92830fd-aacf-4b3a-d899-bbbc2ada0456"
   },
   "outputs": [
    {
     "data": {
      "text/plain": [
       "['school']"
      ]
     },
     "execution_count": 42,
     "metadata": {},
     "output_type": "execute_result"
    }
   ],
   "source": [
    "b"
   ]
  },
  {
   "cell_type": "code",
   "execution_count": null,
   "metadata": {
    "id": "jiXsaziWfO3I"
   },
   "outputs": [],
   "source": [
    "fruits=[\"grapes\",\"banana\",\"orange\",\"kiwi\",\"mango\"]"
   ]
  },
  {
   "cell_type": "code",
   "execution_count": null,
   "metadata": {
    "colab": {
     "base_uri": "https://localhost:8080/"
    },
    "id": "jX6gZKQ_fO7A",
    "outputId": "9911f6cf-14f7-431e-d23d-1e490f6997e6"
   },
   "outputs": [
    {
     "data": {
      "text/plain": [
       "['grapes', 'banana', 'orange', 'kiwi', 'mango']"
      ]
     },
     "execution_count": 3,
     "metadata": {},
     "output_type": "execute_result"
    }
   ],
   "source": [
    "fruits"
   ]
  },
  {
   "cell_type": "code",
   "execution_count": null,
   "metadata": {
    "colab": {
     "base_uri": "https://localhost:8080/"
    },
    "id": "_t4BGV_U0H1h",
    "outputId": "8c16e8b8-beb7-4c20-d0a0-8828ed4806a1"
   },
   "outputs": [
    {
     "name": "stdout",
     "output_type": "stream",
     "text": [
      "grapes\n",
      "banana\n",
      "orange\n",
      "kiwi\n",
      "mango\n"
     ]
    }
   ],
   "source": [
    "for i in fruits:\n",
    "  print(i)\n"
   ]
  },
  {
   "cell_type": "code",
   "execution_count": null,
   "metadata": {
    "id": "wsizSpZ60IBP"
   },
   "outputs": [],
   "source": [
    "A=[]\n",
    "for i in fruits:\n",
    "  \n",
    "  if \"a\" in i:\n",
    "    A.append(i)"
   ]
  },
  {
   "cell_type": "code",
   "execution_count": null,
   "metadata": {
    "colab": {
     "base_uri": "https://localhost:8080/"
    },
    "id": "PEt4_6sR0IIv",
    "outputId": "967ec15b-ba3a-4980-acaa-dcc6ecf9dd77"
   },
   "outputs": [
    {
     "data": {
      "text/plain": [
       "['grapes', 'banana', 'orange', 'mango']"
      ]
     },
     "execution_count": 9,
     "metadata": {},
     "output_type": "execute_result"
    }
   ],
   "source": [
    "A"
   ]
  },
  {
   "cell_type": "code",
   "execution_count": null,
   "metadata": {
    "id": "zhujnQoi0INq"
   },
   "outputs": [],
   "source": [
    "G=[]\n",
    "for i in fruits:\n",
    "  if \"g\" in i:\n",
    "    G.append(i)\n",
    "    \n"
   ]
  },
  {
   "cell_type": "code",
   "execution_count": null,
   "metadata": {
    "colab": {
     "base_uri": "https://localhost:8080/"
    },
    "id": "JZyKmpx-0ISD",
    "outputId": "b024afa0-a5db-4898-faa4-8e65e424db80"
   },
   "outputs": [
    {
     "data": {
      "text/plain": [
       "['grapes', 'orange', 'mango']"
      ]
     },
     "execution_count": 11,
     "metadata": {},
     "output_type": "execute_result"
    }
   ],
   "source": [
    "G"
   ]
  },
  {
   "cell_type": "code",
   "execution_count": null,
   "metadata": {
    "id": "ZzEO16_I0IWI"
   },
   "outputs": [],
   "source": [
    "O=[]\n",
    "for i in fruits:\n",
    "  if \"o\" in i:\n",
    "    O.append(i)"
   ]
  },
  {
   "cell_type": "code",
   "execution_count": null,
   "metadata": {
    "colab": {
     "base_uri": "https://localhost:8080/"
    },
    "id": "s5ZkA_ct0IaI",
    "outputId": "090f7e00-ea2c-4d4f-d748-aa6bc46add69"
   },
   "outputs": [
    {
     "data": {
      "text/plain": [
       "['orange', 'mango']"
      ]
     },
     "execution_count": 13,
     "metadata": {},
     "output_type": "execute_result"
    }
   ],
   "source": [
    "O"
   ]
  },
  {
   "cell_type": "code",
   "execution_count": null,
   "metadata": {
    "id": "HCXvudf_0IeH"
   },
   "outputs": [],
   "source": [
    "E=[]\n",
    "for i in fruits:\n",
    "  if \"e\" in i:\n",
    "    E.append(i)"
   ]
  },
  {
   "cell_type": "code",
   "execution_count": null,
   "metadata": {
    "colab": {
     "base_uri": "https://localhost:8080/"
    },
    "id": "k9HYjgfr7T34",
    "outputId": "bd7e5d0d-259b-40ad-9ad7-79663874f7b8"
   },
   "outputs": [
    {
     "data": {
      "text/plain": [
       "['grapes', 'orange']"
      ]
     },
     "execution_count": 15,
     "metadata": {},
     "output_type": "execute_result"
    }
   ],
   "source": [
    "E"
   ]
  },
  {
   "cell_type": "code",
   "execution_count": null,
   "metadata": {
    "id": "AGHtLQ0c7T_Q"
   },
   "outputs": [],
   "source": [
    "fruits.sort()\n"
   ]
  },
  {
   "cell_type": "code",
   "execution_count": null,
   "metadata": {
    "colab": {
     "base_uri": "https://localhost:8080/"
    },
    "id": "xJzjMBqb7UDn",
    "outputId": "aad7ddd3-4ac0-40f5-bd12-9f7142515853"
   },
   "outputs": [
    {
     "data": {
      "text/plain": [
       "['banana', 'grapes', 'kiwi', 'mango', 'orange']"
      ]
     },
     "execution_count": 18,
     "metadata": {},
     "output_type": "execute_result"
    }
   ],
   "source": [
    "fruits"
   ]
  },
  {
   "cell_type": "code",
   "execution_count": null,
   "metadata": {
    "id": "w3GKQp7T7UHu"
   },
   "outputs": [],
   "source": [
    "fruits.sort(reverse=True)"
   ]
  },
  {
   "cell_type": "code",
   "execution_count": null,
   "metadata": {
    "colab": {
     "base_uri": "https://localhost:8080/"
    },
    "id": "7JcXiyUq7ULi",
    "outputId": "b3c83785-7cd1-48ed-ac41-d66849f06eac"
   },
   "outputs": [
    {
     "data": {
      "text/plain": [
       "['orange', 'mango', 'kiwi', 'grapes', 'banana']"
      ]
     },
     "execution_count": 20,
     "metadata": {},
     "output_type": "execute_result"
    }
   ],
   "source": [
    "fruits"
   ]
  },
  {
   "cell_type": "code",
   "execution_count": null,
   "metadata": {
    "id": "fPvcLCNJ7UQO"
   },
   "outputs": [],
   "source": [
    "numbers=[67,2,85,785,23,105,4,99]\n"
   ]
  },
  {
   "cell_type": "code",
   "execution_count": null,
   "metadata": {
    "colab": {
     "base_uri": "https://localhost:8080/"
    },
    "id": "ov_1Oh2Z897W",
    "outputId": "1641dcfa-332b-4a20-8979-4c11164be70f"
   },
   "outputs": [
    {
     "data": {
      "text/plain": [
       "[67, 2, 85, 785, 23, 105, 4, 99]"
      ]
     },
     "execution_count": 23,
     "metadata": {},
     "output_type": "execute_result"
    }
   ],
   "source": [
    "numbers"
   ]
  },
  {
   "cell_type": "code",
   "execution_count": null,
   "metadata": {
    "id": "q76v3LDh8-B0"
   },
   "outputs": [],
   "source": [
    "numbers.sort()"
   ]
  },
  {
   "cell_type": "code",
   "execution_count": null,
   "metadata": {
    "colab": {
     "base_uri": "https://localhost:8080/"
    },
    "id": "fpm7dPkX8-Fr",
    "outputId": "340ce21a-72e9-4948-95aa-7569de45b3f4"
   },
   "outputs": [
    {
     "data": {
      "text/plain": [
       "[2, 4, 23, 67, 85, 99, 105, 785]"
      ]
     },
     "execution_count": 25,
     "metadata": {},
     "output_type": "execute_result"
    }
   ],
   "source": [
    "numbers"
   ]
  },
  {
   "cell_type": "code",
   "execution_count": null,
   "metadata": {
    "id": "0fPnmvTq8-JM"
   },
   "outputs": [],
   "source": [
    "numbers.sort(reverse=True)"
   ]
  },
  {
   "cell_type": "code",
   "execution_count": null,
   "metadata": {
    "colab": {
     "base_uri": "https://localhost:8080/"
    },
    "id": "EXlD4ldj8-M8",
    "outputId": "eed9c3c7-78a7-4fd6-8a75-846a1558b7f1"
   },
   "outputs": [
    {
     "data": {
      "text/plain": [
       "[785, 105, 99, 85, 67, 23, 4, 2]"
      ]
     },
     "execution_count": 27,
     "metadata": {},
     "output_type": "execute_result"
    }
   ],
   "source": [
    "numbers"
   ]
  },
  {
   "cell_type": "code",
   "execution_count": null,
   "metadata": {
    "id": "jVaU7kGQ8-T0"
   },
   "outputs": [],
   "source": [
    "C=[55,\"tina\",\"sini\",6454,]"
   ]
  },
  {
   "cell_type": "code",
   "execution_count": null,
   "metadata": {
    "colab": {
     "base_uri": "https://localhost:8080/"
    },
    "id": "ta-_0_tU8-bU",
    "outputId": "b4ec788b-4c6c-4332-efdd-b2bb68cee73d"
   },
   "outputs": [
    {
     "data": {
      "text/plain": [
       "[55, 'tina', 'sini', 6454]"
      ]
     },
     "execution_count": 29,
     "metadata": {},
     "output_type": "execute_result"
    }
   ],
   "source": [
    "C"
   ]
  },
  {
   "cell_type": "code",
   "execution_count": null,
   "metadata": {
    "id": "qZtLBWah9y7U"
   },
   "outputs": [],
   "source": []
  },
  {
   "cell_type": "code",
   "execution_count": null,
   "metadata": {
    "id": "nbsHAUMV9zDi"
   },
   "outputs": [],
   "source": [
    "fruits.reverse()"
   ]
  },
  {
   "cell_type": "code",
   "execution_count": null,
   "metadata": {
    "colab": {
     "base_uri": "https://localhost:8080/"
    },
    "id": "hn7nCWa39zHy",
    "outputId": "ab8a934d-7d1b-49d0-8372-b975ab78721d"
   },
   "outputs": [
    {
     "data": {
      "text/plain": [
       "['banana', 'grapes', 'kiwi', 'mango', 'orange']"
      ]
     },
     "execution_count": 33,
     "metadata": {},
     "output_type": "execute_result"
    }
   ],
   "source": [
    "fruits"
   ]
  },
  {
   "cell_type": "code",
   "execution_count": null,
   "metadata": {
    "id": "-AN2yjYA-BaL"
   },
   "outputs": [],
   "source": [
    "N=[]\n",
    "for i in fruits:\n",
    "  if \"a\"and \"o\" in i:\n",
    "    N.append(i)\n"
   ]
  },
  {
   "cell_type": "code",
   "execution_count": null,
   "metadata": {
    "colab": {
     "base_uri": "https://localhost:8080/"
    },
    "id": "CXCtsVEE-Bd6",
    "outputId": "e001671d-50c9-408a-e7c0-20b58d7101dd"
   },
   "outputs": [
    {
     "data": {
      "text/plain": [
       "['mango', 'orange']"
      ]
     },
     "execution_count": 37,
     "metadata": {},
     "output_type": "execute_result"
    }
   ],
   "source": [
    "N"
   ]
  },
  {
   "cell_type": "code",
   "execution_count": null,
   "metadata": {
    "id": "VOQtRtBT-BfQ"
   },
   "outputs": [],
   "source": [
    "A1=[\"aa\",56,\"cc\"]\n",
    "A2=[24,34,\"ss\"]\n",
    "A3=A2+A1\n",
    "A4=A1+A2\n"
   ]
  },
  {
   "cell_type": "code",
   "execution_count": null,
   "metadata": {
    "colab": {
     "base_uri": "https://localhost:8080/"
    },
    "id": "zpNulE-N-Bm7",
    "outputId": "a5a39fd0-1e19-4605-89c8-47e833de8994"
   },
   "outputs": [
    {
     "data": {
      "text/plain": [
       "[24, 34, 'ss', 'aa', 56, 'cc']"
      ]
     },
     "execution_count": 41,
     "metadata": {},
     "output_type": "execute_result"
    }
   ],
   "source": [
    "A3"
   ]
  },
  {
   "cell_type": "code",
   "execution_count": null,
   "metadata": {
    "id": "ZWJWHGi2-Bri"
   },
   "outputs": [],
   "source": [
    "s=[\"rini\",\"ram\",\"ani\"]\n",
    "t=[68,78,55]\n",
    "m=[]\n",
    "for i,j,k in s,t:\n",
    "  m.append(i)\n",
    "for i,j,k in s,t:\n",
    "  m.append(j)\n",
    "for i,j,k in s,t:\n",
    "  m.append(k)\n",
    "\n",
    "\n",
    "\n",
    "\n",
    "\n",
    "\n"
   ]
  },
  {
   "cell_type": "code",
   "execution_count": null,
   "metadata": {
    "colab": {
     "base_uri": "https://localhost:8080/"
    },
    "id": "TFSHj-IcEUvR",
    "outputId": "5fd8d2a9-c9ff-4877-fbd7-7541ac139af7"
   },
   "outputs": [
    {
     "data": {
      "text/plain": [
       "['rini', 68, 'ram', 78, 'ani', 55]"
      ]
     },
     "execution_count": 61,
     "metadata": {},
     "output_type": "execute_result"
    }
   ],
   "source": [
    "m"
   ]
  },
  {
   "cell_type": "code",
   "execution_count": null,
   "metadata": {
    "colab": {
     "base_uri": "https://localhost:8080/"
    },
    "id": "hRdqAsYC-BxY",
    "outputId": "81de77d1-ccd7-46fe-e82c-89002724ed76"
   },
   "outputs": [
    {
     "name": "stdout",
     "output_type": "stream",
     "text": [
      "{'aswathy': 78, 'manu': 66, 'anu': 98, 'sini': 45}\n"
     ]
    }
   ],
   "source": [
    "a={\"aswathy\":78,\"manu\":66,\"anu\":98,\"sini\":45}\n",
    "print(a)"
   ]
  },
  {
   "cell_type": "code",
   "execution_count": null,
   "metadata": {
    "id": "P0Hoy4Q2QiM1"
   },
   "outputs": [],
   "source": [
    "a[\"aswathy\"]=90"
   ]
  },
  {
   "cell_type": "code",
   "execution_count": null,
   "metadata": {
    "colab": {
     "base_uri": "https://localhost:8080/"
    },
    "id": "8uNlPTnvQiXb",
    "outputId": "1cb543d8-d8a1-47d4-ad33-44c35b7d303d"
   },
   "outputs": [
    {
     "data": {
      "text/plain": [
       "{'anu': 98, 'aswathy': 90, 'manu': 66, 'sini': 45}"
      ]
     },
     "execution_count": 70,
     "metadata": {},
     "output_type": "execute_result"
    }
   ],
   "source": [
    "a"
   ]
  },
  {
   "cell_type": "code",
   "execution_count": null,
   "metadata": {
    "id": "bAXWcowuQ4JN"
   },
   "outputs": [],
   "source": [
    "a[\"chinnu\"]=70"
   ]
  },
  {
   "cell_type": "code",
   "execution_count": null,
   "metadata": {
    "colab": {
     "base_uri": "https://localhost:8080/"
    },
    "id": "ODyu-T0YQ4Rr",
    "outputId": "60aba495-61c2-489b-e028-24a291c343d9"
   },
   "outputs": [
    {
     "data": {
      "text/plain": [
       "{'anu': 98, 'aswathy': 90, 'chinnu': 70, 'manu': 66, 'sini': 45}"
      ]
     },
     "execution_count": 72,
     "metadata": {},
     "output_type": "execute_result"
    }
   ],
   "source": [
    "a"
   ]
  },
  {
   "cell_type": "code",
   "execution_count": null,
   "metadata": {
    "colab": {
     "base_uri": "https://localhost:8080/"
    },
    "id": "F--QlZkOQ4Vj",
    "outputId": "d27c9c95-9598-455c-a6ef-6020d0985aaa"
   },
   "outputs": [
    {
     "data": {
      "text/plain": [
       "66"
      ]
     },
     "execution_count": 73,
     "metadata": {},
     "output_type": "execute_result"
    }
   ],
   "source": [
    "a.pop(\"manu\")"
   ]
  },
  {
   "cell_type": "code",
   "execution_count": null,
   "metadata": {
    "colab": {
     "base_uri": "https://localhost:8080/"
    },
    "id": "ALlRUP6IQ4Ym",
    "outputId": "121c713d-df27-4f18-c028-8bc575b49d2b"
   },
   "outputs": [
    {
     "data": {
      "text/plain": [
       "{'anu': 98, 'aswathy': 90, 'chinnu': 70, 'sini': 45}"
      ]
     },
     "execution_count": 74,
     "metadata": {},
     "output_type": "execute_result"
    }
   ],
   "source": [
    "a"
   ]
  },
  {
   "cell_type": "code",
   "execution_count": null,
   "metadata": {
    "id": "Ddbp_MziQ4bj"
   },
   "outputs": [],
   "source": [
    "del a[\"chinnu\"]"
   ]
  },
  {
   "cell_type": "code",
   "execution_count": null,
   "metadata": {
    "colab": {
     "base_uri": "https://localhost:8080/"
    },
    "id": "cEzM3wwBRWpc",
    "outputId": "85bcc79f-b1b8-401b-f627-0d5654ba31a3"
   },
   "outputs": [
    {
     "data": {
      "text/plain": [
       "{'anu': 98, 'aswathy': 90, 'sini': 45}"
      ]
     },
     "execution_count": 76,
     "metadata": {},
     "output_type": "execute_result"
    }
   ],
   "source": [
    "a"
   ]
  },
  {
   "cell_type": "code",
   "execution_count": null,
   "metadata": {
    "id": "UlVrXkNpRWvD"
   },
   "outputs": [],
   "source": [
    "b={4,\"aa\",76,55,88,\"bb\",\"vv\"}"
   ]
  },
  {
   "cell_type": "code",
   "execution_count": null,
   "metadata": {
    "colab": {
     "base_uri": "https://localhost:8080/"
    },
    "id": "HUomoo9MRWz0",
    "outputId": "aadb9b23-a157-4512-fa25-ec411bc1c7db"
   },
   "outputs": [
    {
     "data": {
      "text/plain": [
       "{4, 55, 76, 88, 'aa', 'bb', 'vv'}"
      ]
     },
     "execution_count": 78,
     "metadata": {},
     "output_type": "execute_result"
    }
   ],
   "source": [
    "b"
   ]
  },
  {
   "cell_type": "code",
   "execution_count": null,
   "metadata": {
    "id": "who8Y6BERW3S"
   },
   "outputs": [],
   "source": [
    "c={\"ggj\",\"kk\",\"trr\",\"grj\",\"eri\",\"eri\"}"
   ]
  },
  {
   "cell_type": "code",
   "execution_count": null,
   "metadata": {
    "colab": {
     "base_uri": "https://localhost:8080/"
    },
    "id": "opSf7lnwRW6V",
    "outputId": "06240006-d309-468e-db4e-5bb698e249e8"
   },
   "outputs": [
    {
     "data": {
      "text/plain": [
       "{'eri', 'ggj', 'grj', 'kk', 'trr'}"
      ]
     },
     "execution_count": 81,
     "metadata": {},
     "output_type": "execute_result"
    }
   ],
   "source": [
    "c"
   ]
  },
  {
   "cell_type": "code",
   "execution_count": null,
   "metadata": {
    "id": "9Swc9clbRW8y"
   },
   "outputs": [],
   "source": [
    "c.add(\"mnp\")"
   ]
  },
  {
   "cell_type": "code",
   "execution_count": null,
   "metadata": {
    "colab": {
     "base_uri": "https://localhost:8080/"
    },
    "id": "EEQVCxJCQ4e5",
    "outputId": "c54f9abb-8bed-43b5-e923-85bf84ce6095"
   },
   "outputs": [
    {
     "data": {
      "text/plain": [
       "{'eri', 'ggj', 'grj', 'kk', 'mnp', 'trr'}"
      ]
     },
     "execution_count": 83,
     "metadata": {},
     "output_type": "execute_result"
    }
   ],
   "source": [
    "c"
   ]
  },
  {
   "cell_type": "code",
   "execution_count": null,
   "metadata": {
    "id": "L7QJF8IhQ4hE"
   },
   "outputs": [],
   "source": [
    "c.update([\"uyh\",898])"
   ]
  },
  {
   "cell_type": "code",
   "execution_count": null,
   "metadata": {
    "colab": {
     "base_uri": "https://localhost:8080/"
    },
    "id": "xB-7GI19TaTW",
    "outputId": "ab249a1c-5012-4e1a-edd9-0fdf95f1b13d"
   },
   "outputs": [
    {
     "data": {
      "text/plain": [
       "{898, 'eri', 'ggj', 'grj', 'kk', 'mnp', 'trr', 'uyh'}"
      ]
     },
     "execution_count": 85,
     "metadata": {},
     "output_type": "execute_result"
    }
   ],
   "source": [
    "c"
   ]
  },
  {
   "cell_type": "code",
   "execution_count": null,
   "metadata": {
    "id": "3qAxGu67TaYw"
   },
   "outputs": [],
   "source": [
    "c.remove(\"eri\")"
   ]
  },
  {
   "cell_type": "code",
   "execution_count": null,
   "metadata": {
    "colab": {
     "base_uri": "https://localhost:8080/"
    },
    "id": "SPfnY7wUTac2",
    "outputId": "b43b3bc5-aced-4cd7-9ec0-b883d830cc12"
   },
   "outputs": [
    {
     "data": {
      "text/plain": [
       "{898, 'ggj', 'grj', 'kk', 'mnp', 'trr', 'uyh'}"
      ]
     },
     "execution_count": 88,
     "metadata": {},
     "output_type": "execute_result"
    }
   ],
   "source": [
    "c"
   ]
  },
  {
   "cell_type": "code",
   "execution_count": null,
   "metadata": {
    "id": "DTDewNPBVaqz"
   },
   "outputs": [],
   "source": [
    "c.discard(\"kk\")"
   ]
  },
  {
   "cell_type": "code",
   "execution_count": null,
   "metadata": {
    "colab": {
     "base_uri": "https://localhost:8080/"
    },
    "id": "ck_0fGIjVoe6",
    "outputId": "46b77e2d-3937-4aae-a5ca-33b8615af5c7"
   },
   "outputs": [
    {
     "data": {
      "text/plain": [
       "{898, 'ggj', 'grj', 'mnp', 'trr', 'uyh'}"
      ]
     },
     "execution_count": 91,
     "metadata": {},
     "output_type": "execute_result"
    }
   ],
   "source": [
    "c"
   ]
  },
  {
   "cell_type": "code",
   "execution_count": null,
   "metadata": {
    "id": "c1cTwiy3VvHZ"
   },
   "outputs": [],
   "source": [
    "a={10,30,50}\n",
    "b={\"s\",\"t\",\"u\"}"
   ]
  },
  {
   "cell_type": "code",
   "execution_count": null,
   "metadata": {
    "colab": {
     "base_uri": "https://localhost:8080/"
    },
    "id": "_SNMgoSJWW8x",
    "outputId": "0290114e-1f72-47cc-a3fa-26257df06534"
   },
   "outputs": [
    {
     "data": {
      "text/plain": [
       "{10, 30, 50}"
      ]
     },
     "execution_count": 93,
     "metadata": {},
     "output_type": "execute_result"
    }
   ],
   "source": [
    "a"
   ]
  },
  {
   "cell_type": "code",
   "execution_count": null,
   "metadata": {
    "colab": {
     "base_uri": "https://localhost:8080/"
    },
    "id": "7juJZB92WZQQ",
    "outputId": "0a4dbac9-2282-4dba-e74c-9f877b4a0484"
   },
   "outputs": [
    {
     "data": {
      "text/plain": [
       "{'s', 't', 'u'}"
      ]
     },
     "execution_count": 94,
     "metadata": {},
     "output_type": "execute_result"
    }
   ],
   "source": [
    "b"
   ]
  },
  {
   "cell_type": "code",
   "execution_count": null,
   "metadata": {
    "id": "uE1Z696UWaiI"
   },
   "outputs": [],
   "source": [
    "a.update(b)"
   ]
  },
  {
   "cell_type": "code",
   "execution_count": null,
   "metadata": {
    "colab": {
     "base_uri": "https://localhost:8080/"
    },
    "id": "5DQyga8BWiMg",
    "outputId": "99373e46-0157-4747-eef6-11746022e1a5"
   },
   "outputs": [
    {
     "data": {
      "text/plain": [
       "{10, 30, 50, 's', 't', 'u'}"
      ]
     },
     "execution_count": 96,
     "metadata": {},
     "output_type": "execute_result"
    }
   ],
   "source": [
    "a"
   ]
  },
  {
   "cell_type": "code",
   "execution_count": null,
   "metadata": {
    "colab": {
     "base_uri": "https://localhost:8080/",
     "height": 130
    },
    "id": "LMRkjATrLazC",
    "outputId": "3a1ab33c-fdc8-44f7-fa70-b51ca1e38ada"
   },
   "outputs": [
    {
     "ename": "SyntaxError",
     "evalue": "ignored",
     "output_type": "error",
     "traceback": [
      "\u001b[0;36m  File \u001b[0;32m\"<ipython-input-2-50ac3bf0c80f>\"\u001b[0;36m, line \u001b[0;32m1\u001b[0m\n\u001b[0;31m    a{1}.replace={30:40}\u001b[0m\n\u001b[0m     ^\u001b[0m\n\u001b[0;31mSyntaxError\u001b[0m\u001b[0;31m:\u001b[0m invalid syntax\n"
     ]
    }
   ],
   "source": [
    "a{1}.replace={30:40}"
   ]
  },
  {
   "cell_type": "code",
   "execution_count": 1,
   "metadata": {
    "colab": {
     "base_uri": "https://localhost:8080/"
    },
    "id": "_qi1M7FeWjXY",
    "outputId": "1ac14ad1-f3cf-441d-a4ca-fa49494bf775"
   },
   "outputs": [
    {
     "name": "stdout",
     "output_type": "stream",
     "text": [
      "enter ur strngapple\n",
      "ys\n"
     ]
    }
   ],
   "source": [
    "f=\"apple\"\n",
    "h=input(\"enter ur strng\")\n",
    "if f==h:\n",
    "  print(\"ys\")\n",
    "else:\n",
    "  print(\"no\")\n",
    "\n",
    "\n"
   ]
  },
  {
   "cell_type": "code",
   "execution_count": null,
   "metadata": {
    "colab": {
     "base_uri": "https://localhost:8080/"
    },
    "id": "sSwQXR6mZqey",
    "outputId": "a2bb35f9-7157-415b-d2de-1b2a42cf09ec"
   },
   "outputs": [
    {
     "name": "stdout",
     "output_type": "stream",
     "text": [
      "enter age 55\n",
      "no\n"
     ]
    }
   ],
   "source": [
    "a=12\n",
    "b=input(\"enter age\")\n",
    "if a==b:\n",
    "  print('ys')\n",
    "else:\n",
    "  print('no')  "
   ]
  },
  {
   "cell_type": "code",
   "execution_count": null,
   "metadata": {
    "colab": {
     "base_uri": "https://localhost:8080/"
    },
    "id": "tIGQVatMeiw1",
    "outputId": "7724409e-f5c6-41e3-fbff-fb2f1c65306d"
   },
   "outputs": [
    {
     "name": "stdout",
     "output_type": "stream",
     "text": [
      "eneter your item : apple\n",
      "yes\n"
     ]
    }
   ],
   "source": [
    "a='apple'\n",
    "b=input('eneter your item : ')\n",
    "if a==b:\n",
    "  print('yes')\n",
    "else:\n",
    "  print('no')"
   ]
  },
  {
   "cell_type": "code",
   "execution_count": null,
   "metadata": {
    "colab": {
     "base_uri": "https://localhost:8080/"
    },
    "id": "2XuiMlJTei6b",
    "outputId": "fd91a4a1-9804-4db8-a2b3-50da198ec0e2"
   },
   "outputs": [
    {
     "name": "stdout",
     "output_type": "stream",
     "text": [
      "enter ur marks55\n",
      "enter again\n"
     ]
    }
   ],
   "source": [
    "a='50'\n",
    "b=input('enter ur marks')\n",
    "if a==b: \n",
    "  print('ur mark is 50')\n",
    "else:\n",
    "  print('enter again')"
   ]
  },
  {
   "cell_type": "code",
   "execution_count": null,
   "metadata": {
    "colab": {
     "base_uri": "https://localhost:8080/"
    },
    "id": "0JlpZTpHfnZt",
    "outputId": "d76b4454-4878-47f0-e21c-944836b4b905"
   },
   "outputs": [
    {
     "name": "stdout",
     "output_type": "stream",
     "text": [
      "enter marks77\n",
      "D\n"
     ]
    }
   ],
   "source": [
    "a=int(input('enter marks'))\n",
    "if a>95:\n",
    "  print('A1')\n",
    "elif a>90:\n",
    "  print('A2')\n",
    "elif a>85:\n",
    "  print('B')\n",
    "elif a>80:\n",
    "  print('C')\n",
    "else:\n",
    "  print('D')\n"
   ]
  },
  {
   "cell_type": "code",
   "execution_count": null,
   "metadata": {
    "colab": {
     "base_uri": "https://localhost:8080/"
    },
    "id": "B6pMsQ7ahiPg",
    "outputId": "488f04a1-62bc-4e1f-b718-491992b537a2"
   },
   "outputs": [
    {
     "name": "stdout",
     "output_type": "stream",
     "text": [
      "enter the number 5\n",
      "number is less than 10\n"
     ]
    }
   ],
   "source": [
    "a= int(input('enter the number'))\n",
    "if a>10:\n",
    "  print('number is greater than 10')\n",
    "elif a<10:\n",
    "  print('number is less than 10')\n",
    "else:\n",
    "  print('number is equal to 10')"
   ]
  },
  {
   "cell_type": "code",
   "execution_count": null,
   "metadata": {
    "colab": {
     "base_uri": "https://localhost:8080/"
    },
    "id": "ujFXA1shT3ca",
    "outputId": "67177846-b975-42e5-eb65-b6dcd12957f6"
   },
   "outputs": [
    {
     "name": "stdout",
     "output_type": "stream",
     "text": [
      "enter first number16\n",
      "enter secnd number20\n",
      "20 is greater\n"
     ]
    }
   ],
   "source": [
    "a=int(input('enter first number'))\n",
    "b=int(input('enter secnd number'))\n",
    "if a>b:\n",
    "  text=\"{} is greater\"\n",
    "  print(text.format(a))\n",
    "else:\n",
    "  text=\"{} is greater\"\n",
    "  print(text.format(b))\n"
   ]
  },
  {
   "cell_type": "code",
   "execution_count": null,
   "metadata": {
    "colab": {
     "base_uri": "https://localhost:8080/"
    },
    "id": "Ss1bICCpbAG7",
    "outputId": "a78c62c7-8f1c-44a8-df3e-590f68856349"
   },
   "outputs": [
    {
     "name": "stdout",
     "output_type": "stream",
     "text": [
      "My name is liam and i'm coming from bombay, my age is 20 and i got 85 marks\n"
     ]
    }
   ],
   "source": [
    "age=20\n",
    "city=\"bombay\"\n",
    "mark=85\n",
    "name=\"liam\"\n",
    "txt=\"My name is {} and i'm coming from {}, my age is {} and i got {} marks\"\n",
    "print(txt.format(name,city,age,mark))"
   ]
  },
  {
   "cell_type": "code",
   "execution_count": null,
   "metadata": {
    "colab": {
     "base_uri": "https://localhost:8080/"
    },
    "id": "QZxPY1GagomD",
    "outputId": "08ab4d41-1e46-4d88-c147-475689e0b9a6"
   },
   "outputs": [
    {
     "name": "stdout",
     "output_type": "stream",
     "text": [
      "enter frst num65\n",
      "enter scnd num78\n",
      "scnd num is greater\n"
     ]
    }
   ],
   "source": [
    "a=int(input('enter frst num'))\n",
    "b=int(input('enter scnd num'))\n",
    "#if a>b:print('first number is greater')\n",
    "print('first num is greter') if a>b else print('scnd num is greater')"
   ]
  },
  {
   "cell_type": "code",
   "execution_count": null,
   "metadata": {
    "colab": {
     "base_uri": "https://localhost:8080/"
    },
    "id": "VFioREVzhwYL",
    "outputId": "603618ba-072f-40f1-9936-ae3300e23b8e"
   },
   "outputs": [
    {
     "name": "stdout",
     "output_type": "stream",
     "text": [
      "first num67\n",
      "second num76\n",
      "third num99\n",
      "99 is greatest\n"
     ]
    }
   ],
   "source": [
    "a=int(input('first num'))\n",
    "b=int(input('second num'))\n",
    "c=int(input('third num'))\n",
    "txt='{} is greatest'\n",
    "if a>b and a>c:\n",
    "  #txt='{} is greatest'\n",
    "  print(txt.format(a))\n",
    "elif b>a and b>c:\n",
    "  #txt='{} is greatest'\n",
    "  print(txt.format(b))\n",
    "else:\n",
    "  print(txt.format(c))"
   ]
  },
  {
   "cell_type": "code",
   "execution_count": null,
   "metadata": {
    "id": "3jL6hcQ1kv3M"
   },
   "outputs": [],
   "source": []
  },
  {
   "cell_type": "markdown",
   "metadata": {
    "id": "4Rl-2kBMmIAe"
   },
   "source": [
    "WHILE LOOP\n"
   ]
  },
  {
   "cell_type": "code",
   "execution_count": null,
   "metadata": {
    "colab": {
     "base_uri": "https://localhost:8080/"
    },
    "id": "8UCN-dFdmURn",
    "outputId": "e8880c6a-2a63-4d86-8d4f-64c469666684"
   },
   "outputs": [
    {
     "name": "stdout",
     "output_type": "stream",
     "text": [
      "1\n",
      "2\n",
      "3\n",
      "4\n",
      "5\n",
      "6\n"
     ]
    }
   ],
   "source": [
    "i=1\n",
    "while i<=6:\n",
    "  print(i)\n",
    "  i+=1"
   ]
  },
  {
   "cell_type": "code",
   "execution_count": null,
   "metadata": {
    "colab": {
     "base_uri": "https://localhost:8080/"
    },
    "id": "7nfP1AySnLW9",
    "outputId": "a078a18e-b87e-4cee-afe5-a9ede515afdd"
   },
   "outputs": [
    {
     "name": "stdout",
     "output_type": "stream",
     "text": [
      "1\n",
      "2\n",
      "3\n"
     ]
    }
   ],
   "source": [
    "i=1\n",
    "while i<10:\n",
    "  print(i)\n",
    "  if i==3:\n",
    "    break\n",
    "  i+=1\n"
   ]
  },
  {
   "cell_type": "code",
   "execution_count": null,
   "metadata": {
    "colab": {
     "base_uri": "https://localhost:8080/"
    },
    "id": "Obvr7WPio3mT",
    "outputId": "656e7e01-34b5-4ac8-c3dd-8f9c0a4d73c0"
   },
   "outputs": [
    {
     "name": "stdout",
     "output_type": "stream",
     "text": [
      "1\n",
      "2\n",
      "3\n",
      "4\n",
      "6\n",
      "7\n",
      "8\n",
      "9\n",
      "10\n"
     ]
    }
   ],
   "source": [
    "i=0\n",
    "while i<10:\n",
    "  i=i+1\n",
    "  if i==5:\n",
    "    continue\n",
    "  print(i)\n"
   ]
  },
  {
   "cell_type": "code",
   "execution_count": null,
   "metadata": {
    "colab": {
     "base_uri": "https://localhost:8080/"
    },
    "id": "IN1BMkK3pdY4",
    "outputId": "2ae15be1-8d33-4cb4-c165-9b66ef324e91"
   },
   "outputs": [
    {
     "name": "stdout",
     "output_type": "stream",
     "text": [
      "enter ur name liam\n",
      " liam\n",
      " liam\n",
      " liam\n",
      " liam\n",
      " liam\n"
     ]
    }
   ],
   "source": [
    "\n",
    "a=input('enter ur name')\n",
    "i=1\n",
    "while i<=5:\n",
    "  print(a)\n",
    "  i=i+1\n"
   ]
  },
  {
   "cell_type": "code",
   "execution_count": null,
   "metadata": {
    "id": "gmnyv_Vgs23F"
   },
   "outputs": [],
   "source": []
  },
  {
   "cell_type": "code",
   "execution_count": 6,
   "metadata": {
    "colab": {
     "base_uri": "https://localhost:8080/",
     "height": 235
    },
    "id": "8fsI9OF1XRyJ",
    "outputId": "e88877dd-702a-448a-9d30-27a8841ca463"
   },
   "outputs": [
    {
     "name": "stdout",
     "output_type": "stream",
     "text": [
      "enter ur namesha\n",
      "sha\n",
      "sha\n",
      "sha\n",
      "sha\n",
      "sha\n"
     ]
    },
    {
     "ename": "SyntaxError",
     "evalue": "ignored",
     "output_type": "error",
     "traceback": [
      "\u001b[0;36m  File \u001b[0;32m\"<ipython-input-6-295153018cc1>\"\u001b[0;36m, line \u001b[0;32m8\u001b[0m\n\u001b[0;31m    break\u001b[0m\n\u001b[0m    ^\u001b[0m\n\u001b[0;31mSyntaxError\u001b[0m\u001b[0;31m:\u001b[0m 'break' outside loop\n"
     ]
    }
   ],
   "source": [
    "\n",
    "a=input('enter ur name')\n",
    "i=1\n",
    "while i<=5:\n",
    "  print(a)\n",
    "  i=i+1\n",
    "if a==\"end\":\n",
    "  break\n",
    "else:\n",
    " print(\"done\")\n"
   ]
  },
  {
   "cell_type": "code",
   "execution_count": null,
   "metadata": {
    "id": "G6_kYUIft2Yi"
   },
   "outputs": [],
   "source": []
  },
  {
   "cell_type": "code",
   "execution_count": null,
   "metadata": {
    "id": "kBhFhgTskgtN"
   },
   "outputs": [],
   "source": []
  },
  {
   "cell_type": "markdown",
   "metadata": {
    "id": "3IKFBsxqkkbE"
   },
   "source": [
    "for loop\n"
   ]
  },
  {
   "cell_type": "code",
   "execution_count": null,
   "metadata": {
    "colab": {
     "base_uri": "https://localhost:8080/"
    },
    "id": "kxy8wPackg4i",
    "outputId": "b9b0ad17-6117-4927-9558-76d976b542e2"
   },
   "outputs": [
    {
     "name": "stdout",
     "output_type": "stream",
     "text": [
      "1\n",
      "2\n",
      "3\n",
      "4\n",
      "5\n",
      "6\n",
      "7\n",
      "8\n",
      "9\n",
      "10\n",
      "11\n",
      "12\n",
      "13\n",
      "14\n",
      "15\n",
      "16\n",
      "17\n",
      "18\n",
      "19\n",
      "20\n"
     ]
    }
   ],
   "source": [
    "for i in range(1,21):\n",
    "  print(i)"
   ]
  },
  {
   "cell_type": "code",
   "execution_count": null,
   "metadata": {
    "colab": {
     "base_uri": "https://localhost:8080/"
    },
    "id": "0VcC2Sx-kg8K",
    "outputId": "ae6fe7e6-d501-4ca1-ee4e-7539d1620f40"
   },
   "outputs": [
    {
     "name": "stdout",
     "output_type": "stream",
     "text": [
      "enter fruit kiwi\n",
      "not in the list\n"
     ]
    }
   ],
   "source": [
    "fruits=[\"orange\",\"apple\",\"banana\",\"mango\",\"papaya\"]\n",
    "a=input('enter fruit')\n",
    "for i in fruits:\n",
    "  if i in a:\n",
    "    print(\"yes\")\n",
    "    break\n",
    "  else:\n",
    "    print(\"not in the list\")\n",
    "    break\n",
    "\n"
   ]
  },
  {
   "cell_type": "code",
   "execution_count": null,
   "metadata": {
    "id": "0ikY-1vaoZPL"
   },
   "outputs": [],
   "source": [
    "numbers=[2,4,6,8,10]\n",
    "b=int(input('enter number'))\n",
    "a=[]\n",
    "for i in numbers:\n",
    "  if b in i:\n",
    "    a.append(i)\n",
    "    print(a)\n",
    "    #break\n",
    "  #else:\n",
    "   #print(\"number is not available\")\n",
    "    #break"
   ]
  },
  {
   "cell_type": "code",
   "execution_count": null,
   "metadata": {
    "id": "RqZs_RYxnTDQ"
   },
   "outputs": [],
   "source": [
    "A=[\"anu\",\"minu\",\"reena\",\"sini\"]\n",
    "B=[\"jithu\",\"reghu\",\"liam\"]\n",
    "d=A+B\n",
    "e=[]\n",
    "c=input(\"enter ur name\")\n",
    "for i in d:\n",
    "  if c in i :\n",
    "    e.append(i)\n",
    "    print(e)\n"
   ]
  },
  {
   "cell_type": "code",
   "execution_count": null,
   "metadata": {
    "id": "1iSDnI4v0lHP"
   },
   "outputs": [],
   "source": []
  },
  {
   "cell_type": "code",
   "execution_count": null,
   "metadata": {
    "colab": {
     "base_uri": "https://localhost:8080/"
    },
    "id": "8jQVCvl_rhX8",
    "outputId": "f1e4abd6-01a8-4a66-9f4a-d994f8d01d80"
   },
   "outputs": [
    {
     "name": "stdout",
     "output_type": "stream",
     "text": [
      "odd numbers 1\n",
      "even number 2\n",
      "odd numbers 3\n",
      "even number 4\n",
      "odd numbers 5\n",
      "even number 6\n",
      "odd numbers 7\n",
      "even number 8\n",
      "odd numbers 9\n",
      "even number 10\n",
      "odd numbers 11\n",
      "even number 12\n",
      "odd numbers 13\n",
      "even number 14\n",
      "odd numbers 15\n",
      "even number 16\n",
      "odd numbers 17\n",
      "even number 18\n",
      "odd numbers 19\n",
      "even number 20\n",
      "odd numbers 21\n",
      "even number 22\n",
      "odd numbers 23\n",
      "even number 24\n",
      "odd numbers 25\n",
      "even number 26\n",
      "odd numbers 27\n",
      "even number 28\n",
      "odd numbers 29\n",
      "even number 30\n",
      "odd numbers 31\n",
      "even number 32\n",
      "odd numbers 33\n",
      "even number 34\n",
      "odd numbers 35\n",
      "even number 36\n",
      "odd numbers 37\n",
      "even number 38\n",
      "odd numbers 39\n",
      "even number 40\n",
      "odd numbers 41\n",
      "even number 42\n",
      "odd numbers 43\n",
      "even number 44\n",
      "odd numbers 45\n",
      "even number 46\n",
      "odd numbers 47\n",
      "even number 48\n",
      "odd numbers 49\n",
      "even number 50\n"
     ]
    }
   ],
   "source": [
    "for i in range (1,51):\n",
    "  if i%2==0:\n",
    "    print(\"even number\",i)\n",
    "  else:\n",
    "    print(\"odd numbers\",i)\n",
    "    \n"
   ]
  },
  {
   "cell_type": "code",
   "execution_count": null,
   "metadata": {
    "colab": {
     "base_uri": "https://localhost:8080/"
    },
    "id": "TtvnSPvfrhky",
    "outputId": "1d46022f-81df-4b27-acae-48cec7c7f78e"
   },
   "outputs": [
    {
     "name": "stdout",
     "output_type": "stream",
     "text": [
      "even number [666, 2]\n",
      "odd numbers [435, 125, 89]\n"
     ]
    }
   ],
   "source": [
    "n=[435,125,666,89,2]\n",
    "m=[]\n",
    "o=[]\n",
    "for i in n:\n",
    "  if i%2==0:\n",
    "    m.append(i)\n",
    "  else:\n",
    "    o.append(i)\n",
    "print(\"even number\",m)\n",
    "print(\"odd numbers\",o)\n",
    "\n"
   ]
  },
  {
   "cell_type": "code",
   "execution_count": null,
   "metadata": {
    "id": "XZc-SZO4xU23"
   },
   "outputs": [],
   "source": []
  },
  {
   "cell_type": "code",
   "execution_count": null,
   "metadata": {
    "colab": {
     "base_uri": "https://localhost:8080/"
    },
    "id": "1BYeYMhMxVB_",
    "outputId": "907e2877-8372-4b69-a47b-df93640a8249"
   },
   "outputs": [
    {
     "name": "stdout",
     "output_type": "stream",
     "text": [
      "['aaa', 'nn', 'oo', 'gg']\n"
     ]
    }
   ],
   "source": [
    "a=[\"aaa\",\"nn\"]\n",
    "b=[\"oo\",\"gg\"]\n",
    "c=a+b\n",
    "print(c)\n"
   ]
  },
  {
   "cell_type": "code",
   "execution_count": null,
   "metadata": {
    "colab": {
     "base_uri": "https://localhost:8080/"
    },
    "id": "B79EtMr30mUe",
    "outputId": "e232c94a-f214-4537-9eab-67f3838a7a9a"
   },
   "outputs": [
    {
     "name": "stdout",
     "output_type": "stream",
     "text": [
      "eneter a itempapaya\n",
      "[]\n"
     ]
    }
   ],
   "source": [
    "fruits = [\"apple\", \"banana\", \"cherry\", \"kiwi\", \"mango\"]\n",
    "b=input('eneter a item')\n",
    "newlist = []\n",
    "\n",
    "for i in fruits:\n",
    "  if b in i:\n",
    "    newlist.append(i)\n",
    "\n",
    "print(newlist)"
   ]
  },
  {
   "cell_type": "code",
   "execution_count": null,
   "metadata": {
    "colab": {
     "base_uri": "https://localhost:8080/"
    },
    "id": "ZFSKPc-skWu1",
    "outputId": "a0050a98-65d6-478e-aee6-a1187e44a005"
   },
   "outputs": [
    {
     "name": "stdout",
     "output_type": "stream",
     "text": [
      "[<class 'str'>, <class 'int'>, <class 'float'>]\n"
     ]
    }
   ],
   "source": [
    "s=[\"rini\",65,56.7]\n",
    "t=[]\n",
    "for i in s:\n",
    "  t.append(type(i))\n",
    "print(t)\n",
    "  \n"
   ]
  },
  {
   "cell_type": "code",
   "execution_count": null,
   "metadata": {
    "colab": {
     "base_uri": "https://localhost:8080/"
    },
    "id": "__qC2ofCnhto",
    "outputId": "9e699ad6-4bb5-4e08-d577-292d6ad59302"
   },
   "outputs": [
    {
     "name": "stdout",
     "output_type": "stream",
     "text": [
      "[3, 6, 7]\n"
     ]
    }
   ],
   "source": [
    "a=[3,-5,6,7,-11]\n",
    "b=[]\n",
    "for i in a:\n",
    "  if i>0:\n",
    "    b.append(i)\n",
    "print(b)   "
   ]
  },
  {
   "cell_type": "code",
   "execution_count": null,
   "metadata": {
    "colab": {
     "base_uri": "https://localhost:8080/"
    },
    "id": "IcYuT-06rdqA",
    "outputId": "4da6d712-ee43-4b92-9e66-3ff5c28b72c6"
   },
   "outputs": [
    {
     "name": "stdout",
     "output_type": "stream",
     "text": [
      "[8, 216, 343, 64]\n"
     ]
    }
   ],
   "source": [
    "a=[2,6,7,4]\n",
    "b=[]\n",
    "for i in a:\n",
    "  b.append(i**3)\n",
    "print(b)"
   ]
  },
  {
   "cell_type": "code",
   "execution_count": null,
   "metadata": {
    "colab": {
     "base_uri": "https://localhost:8080/"
    },
    "id": "uCuHas8Yrd1F",
    "outputId": "1df322ac-b157-406b-ef40-c7bd07ab7953"
   },
   "outputs": [
    {
     "name": "stdout",
     "output_type": "stream",
     "text": [
      "enter a number0\n",
      "1\n"
     ]
    }
   ],
   "source": [
    "a=int(input(\"enter a number\"))\n",
    "f=1\n",
    "i=1\n",
    "while i<=a:\n",
    "  f=f*i \n",
    "  i+=1\n",
    "print(f)\n"
   ]
  },
  {
   "cell_type": "code",
   "execution_count": null,
   "metadata": {
    "colab": {
     "base_uri": "https://localhost:8080/"
    },
    "id": "4dxfAiyszyrL",
    "outputId": "1da1f8db-73f0-45cf-cd87-3c208ff87026"
   },
   "outputs": [
    {
     "name": "stdout",
     "output_type": "stream",
     "text": [
      "enter num4\n",
      "24\n"
     ]
    }
   ],
   "source": [
    "a=int(input(\"enter num\"))\n",
    "f=1\n",
    "if(a==0 or a<0):\n",
    "  print(\"enter positive value\")\n",
    "else:\n",
    "    while(a):\n",
    "      f=f*a \n",
    "      a=a-1\n",
    "print(f)\n",
    "\n"
   ]
  },
  {
   "cell_type": "code",
   "execution_count": null,
   "metadata": {
    "colab": {
     "base_uri": "https://localhost:8080/"
    },
    "id": "QQfGAWVF2-Ys",
    "outputId": "b9c431f5-aebf-4582-aa28-9da094bbd1b1"
   },
   "outputs": [
    {
     "name": "stdout",
     "output_type": "stream",
     "text": [
      "7\n"
     ]
    }
   ],
   "source": [
    "a=1\n",
    "a=a*7\n",
    "print(a)  \n"
   ]
  },
  {
   "cell_type": "code",
   "execution_count": null,
   "metadata": {
    "colab": {
     "base_uri": "https://localhost:8080/"
    },
    "id": "iGj6dK9iolwJ",
    "outputId": "9b1298c3-4267-485c-ca62-c2c58a4f5ac9"
   },
   "outputs": [
    {
     "name": "stdout",
     "output_type": "stream",
     "text": [
      "0\n",
      "7\n",
      "14\n",
      "21\n",
      "28\n",
      "35\n",
      "42\n",
      "49\n"
     ]
    }
   ],
   "source": [
    "for i in range(50):\n",
    "  if i%7==0:\n",
    "    print(i)"
   ]
  },
  {
   "cell_type": "code",
   "execution_count": null,
   "metadata": {
    "colab": {
     "base_uri": "https://localhost:8080/"
    },
    "id": "nPO-OWdErzzy",
    "outputId": "c09ed658-4788-46ad-9a07-6cda500049fb"
   },
   "outputs": [
    {
     "name": "stdout",
     "output_type": "stream",
     "text": [
      "seven multiples of 7 are [7, 14, 21, 28, 35, 42, 49]\n"
     ]
    }
   ],
   "source": [
    "a=[1,2,3,4,5,6,7]\n",
    "b=[]\n",
    "for i in a:\n",
    "  b.append(i*7)\n",
    "print(\"seven multiples of 7 are\",b) \n",
    "\n",
    "  \n"
   ]
  },
  {
   "cell_type": "code",
   "execution_count": null,
   "metadata": {
    "id": "J_d0Uk1IlMRt"
   },
   "outputs": [],
   "source": []
  },
  {
   "cell_type": "code",
   "execution_count": null,
   "metadata": {
    "colab": {
     "base_uri": "https://localhost:8080/"
    },
    "id": "mkisz3SxHf9N",
    "outputId": "ae451378-d038-466d-c1c4-c29e722833f9"
   },
   "outputs": [
    {
     "name": "stdout",
     "output_type": "stream",
     "text": [
      "positive numbers are [34, 66]\n",
      "negative numbers are [-23]\n"
     ]
    }
   ],
   "source": [
    "a=[34,-23,66,]\n",
    "b=[]\n",
    "c=[]\n",
    "for i in a:\n",
    "  if i>0:\n",
    "    b.append(i)\n",
    "  else: \n",
    "    c.append(i)\n",
    "print(\"positive numbers are\",b)   \n",
    "print(\"negative numbers are\",c)\n",
    "\n",
    " \n",
    "  "
   ]
  },
  {
   "cell_type": "code",
   "execution_count": null,
   "metadata": {
    "id": "8hP65IIvJTXC"
   },
   "outputs": [],
   "source": []
  },
  {
   "cell_type": "code",
   "execution_count": null,
   "metadata": {
    "colab": {
     "base_uri": "https://localhost:8080/"
    },
    "id": "z5FtSMmDLRlU",
    "outputId": "c79537f5-0ee2-4543-933e-3153ab56adb4"
   },
   "outputs": [
    {
     "name": "stdout",
     "output_type": "stream",
     "text": [
      "even numbers are [22, 66, 78]\n",
      "odd numbers are [45, 67, 99]\n"
     ]
    }
   ],
   "source": [
    "a=[45,22,67,66,78,99]\n",
    "e=[]\n",
    "o=[]\n",
    "for i in a:\n",
    "  if i%2==0:\n",
    "   e.append(i)\n",
    "  else:\n",
    "    o.append(i)\n",
    "print(\"even numbers are\",e)\n",
    "print(\"odd numbers are\",o)"
   ]
  },
  {
   "cell_type": "code",
   "execution_count": null,
   "metadata": {
    "colab": {
     "base_uri": "https://localhost:8080/"
    },
    "id": "WHX-oKAokUnH",
    "outputId": "45472ead-ba02-4276-f713-dea9a26d0462"
   },
   "outputs": [
    {
     "name": "stdout",
     "output_type": "stream",
     "text": [
      "[7, 14, 42, 168, 840, 5040, 35280]\n"
     ]
    }
   ],
   "source": [
    "f=7\n",
    "i=1\n",
    "#i=i+1\n",
    "a=[]\n",
    "while i<=7:\n",
    "  f=f*i\n",
    "  a.append(f) \n",
    "  i+=1\n",
    "print(a)"
   ]
  },
  {
   "cell_type": "code",
   "execution_count": null,
   "metadata": {
    "colab": {
     "base_uri": "https://localhost:8080/"
    },
    "id": "tbNVpUr7DqYK",
    "outputId": "b1138e32-10dc-44ac-cdd9-0534e281748a"
   },
   "outputs": [
    {
     "name": "stdout",
     "output_type": "stream",
     "text": [
      "enter num8\n",
      "mul table  8\n",
      "8\n",
      "16\n",
      "24\n",
      "32\n",
      "40\n",
      "48\n",
      "56\n",
      "64\n",
      "72\n",
      "80\n"
     ]
    }
   ],
   "source": [
    "a=int(input('enter num'))\n",
    "print(\"mul table \",a)\n",
    "for i in range(1,11):\n",
    "  i=a*i\n",
    "  print(i)\n",
    "\n"
   ]
  },
  {
   "cell_type": "code",
   "execution_count": null,
   "metadata": {
    "id": "isqMlzru_6r3"
   },
   "outputs": [],
   "source": []
  },
  {
   "cell_type": "code",
   "execution_count": null,
   "metadata": {
    "colab": {
     "base_uri": "https://localhost:8080/"
    },
    "id": "33Pepw6qF0cG",
    "outputId": "bf247301-ef1a-40cc-9329-67e379860225"
   },
   "outputs": [
    {
     "name": "stdout",
     "output_type": "stream",
     "text": [
      "{0: 10, 1: 20, 2: 30}\n"
     ]
    }
   ],
   "source": [
    "v={0:10,1:20}\n",
    "v.update({2:30})\n",
    "print(v)"
   ]
  },
  {
   "cell_type": "code",
   "execution_count": null,
   "metadata": {
    "colab": {
     "base_uri": "https://localhost:8080/"
    },
    "id": "OQqXyyb0Vrxz",
    "outputId": "b88f68da-7639-4dcd-e891-595a80b94249"
   },
   "outputs": [
    {
     "data": {
      "text/plain": [
       "['o', 'n', 'm']"
      ]
     },
     "execution_count": 34,
     "metadata": {},
     "output_type": "execute_result"
    }
   ],
   "source": [
    "a=[\"m\",\"n\",\"o\"]\n",
    "a[0]=\"o\"\n",
    "a[2]=\"m\"\n",
    "a\n"
   ]
  },
  {
   "cell_type": "code",
   "execution_count": null,
   "metadata": {
    "id": "1YpyC2ymi9Kg"
   },
   "outputs": [],
   "source": []
  },
  {
   "cell_type": "code",
   "execution_count": null,
   "metadata": {
    "colab": {
     "base_uri": "https://localhost:8080/"
    },
    "id": "VJSsUEwOXfpq",
    "outputId": "eecc9be0-19b8-4554-c11e-9adaaf4a3e38"
   },
   "outputs": [
    {
     "data": {
      "text/plain": [
       "{1, 2, 3, 4, 5, 6}"
      ]
     },
     "execution_count": 10,
     "metadata": {},
     "output_type": "execute_result"
    }
   ],
   "source": [
    "a={1,2,3}\n",
    "a.update({4,5,6})\n",
    "a \n"
   ]
  },
  {
   "cell_type": "code",
   "execution_count": null,
   "metadata": {
    "colab": {
     "base_uri": "https://localhost:8080/"
    },
    "id": "ISU4CGMAYFyp",
    "outputId": "ef2cb219-a026-4a2a-e486-51266923c768"
   },
   "outputs": [
    {
     "name": "stdout",
     "output_type": "stream",
     "text": [
      "2952\n"
     ]
    }
   ],
   "source": [
    "a=150\n",
    "b=300\n",
    "c=2500\n",
    "d=2\n",
    "e=a+b+c+d\n",
    "print(e)"
   ]
  },
  {
   "cell_type": "code",
   "execution_count": null,
   "metadata": {
    "colab": {
     "base_uri": "https://localhost:8080/",
     "height": 35
    },
    "id": "COr8imbDasMq",
    "outputId": "536ea867-96a2-42f3-82ca-325ca0be06be"
   },
   "outputs": [
    {
     "data": {
      "application/vnd.google.colaboratory.intrinsic+json": {
       "type": "string"
      },
      "text/plain": [
       "'cherry'"
      ]
     },
     "execution_count": 15,
     "metadata": {},
     "output_type": "execute_result"
    }
   ],
   "source": [
    "v=[\"apple\",\"banana\",\"cherry\"]\n",
    "v[2]"
   ]
  },
  {
   "cell_type": "code",
   "execution_count": null,
   "metadata": {
    "colab": {
     "base_uri": "https://localhost:8080/"
    },
    "id": "OjJRb2SpceXf",
    "outputId": "21b4c67f-a24f-436a-a70d-267f09179388"
   },
   "outputs": [
    {
     "data": {
      "text/plain": [
       "['name', 'age', 'address', 'gender', 'class']"
      ]
     },
     "execution_count": 18,
     "metadata": {},
     "output_type": "execute_result"
    }
   ],
   "source": [
    "a=[\"name\",\"age\",\"address\",\"class\"]\n",
    "a.insert(3,\"gender\")\n",
    "a"
   ]
  },
  {
   "cell_type": "code",
   "execution_count": null,
   "metadata": {
    "colab": {
     "base_uri": "https://localhost:8080/"
    },
    "id": "Ae_dNrHZdlPz",
    "outputId": "ebf7fac4-19c1-4267-97c9-59890ec75892"
   },
   "outputs": [
    {
     "data": {
      "text/plain": [
       "['a', 'b', 'c', 'e', 'f', 'g', 'h']"
      ]
     },
     "execution_count": 19,
     "metadata": {},
     "output_type": "execute_result"
    }
   ],
   "source": [
    "o=[\"a\",\"b\",\"c\",\"j\",\"e\",\"f\",\"g\",\"h\"]\n",
    "del o[3]\n",
    "o"
   ]
  },
  {
   "cell_type": "code",
   "execution_count": null,
   "metadata": {
    "colab": {
     "base_uri": "https://localhost:8080/",
     "height": 35
    },
    "id": "2McdRGyWebtw",
    "outputId": "2807a258-fb46-4d0f-fe4d-7f40aeacd12e"
   },
   "outputs": [
    {
     "data": {
      "application/vnd.google.colaboratory.intrinsic+json": {
       "type": "string"
      },
      "text/plain": [
       "'hello welcome to data world 2021'"
      ]
     },
     "execution_count": 22,
     "metadata": {},
     "output_type": "execute_result"
    }
   ],
   "source": [
    "a=\"hello\"\n",
    "b=\"welcome\"\n",
    "c=\"to\"\n",
    "d=\"data\"\n",
    "e=\"world\"\n",
    "f=2021\n",
    "m=a+\" \"+b+\" \"+c+\" \"+d+\" \"+e+\" \"+str(f)\n",
    "m"
   ]
  },
  {
   "cell_type": "code",
   "execution_count": null,
   "metadata": {
    "id": "EhRWhEhpfYiG"
   },
   "outputs": [],
   "source": []
  },
  {
   "cell_type": "code",
   "execution_count": null,
   "metadata": {
    "colab": {
     "base_uri": "https://localhost:8080/"
    },
    "id": "uvdSY5UsfYji",
    "outputId": "b8a56520-a946-490c-f4b7-5e16b7dcb312"
   },
   "outputs": [
    {
     "data": {
      "text/plain": [
       "{1: 10, 2: 100, 3: 1000}"
      ]
     },
     "execution_count": 26,
     "metadata": {},
     "output_type": "execute_result"
    }
   ],
   "source": [
    "a={}\n",
    "a[1]=10\n",
    "a[2]=100\n",
    "a[3]=1000\n",
    "a\n",
    "\n"
   ]
  },
  {
   "cell_type": "code",
   "execution_count": null,
   "metadata": {
    "colab": {
     "base_uri": "https://localhost:8080/"
    },
    "id": "EF1oT2mbhKrb",
    "outputId": "2b4dc1d6-7079-4347-a92e-991eec43c766"
   },
   "outputs": [
    {
     "data": {
      "text/plain": [
       "{1, 2, 3, 'aa', 'bb', 'cc'}"
      ]
     },
     "execution_count": 28,
     "metadata": {},
     "output_type": "execute_result"
    }
   ],
   "source": [
    "a={\"aa\",\"bb\",\"cc\"}\n",
    "b={1,2,3}\n",
    "a.update(b)\n",
    "a"
   ]
  },
  {
   "cell_type": "code",
   "execution_count": null,
   "metadata": {
    "colab": {
     "base_uri": "https://localhost:8080/"
    },
    "id": "ff7jkQc8h64r",
    "outputId": "d16aa490-7f2f-464a-8403-655e2d006be1"
   },
   "outputs": [
    {
     "data": {
      "text/plain": [
       "{1, 2, 3, 'aa', 'bb', 'cc'}"
      ]
     },
     "execution_count": 31,
     "metadata": {},
     "output_type": "execute_result"
    }
   ],
   "source": [
    "a={\"aa\",\"bb\",\"cc\"}\n",
    "b={1,2,3}\n",
    "a.union(b)\n"
   ]
  },
  {
   "cell_type": "code",
   "execution_count": null,
   "metadata": {
    "colab": {
     "base_uri": "https://localhost:8080/",
     "height": 35
    },
    "id": "54S2Gk0Li-2i",
    "outputId": "0ab53e93-91f1-491e-97c0-9fd44df53905"
   },
   "outputs": [
    {
     "data": {
      "application/vnd.google.colaboratory.intrinsic+json": {
       "type": "string"
      },
      "text/plain": [
       "' 321'"
      ]
     },
     "execution_count": 2,
     "metadata": {},
     "output_type": "execute_result"
    }
   ],
   "source": [
    "a=\"123 \"\n",
    "b=a[::-1]\n",
    "b"
   ]
  },
  {
   "cell_type": "code",
   "execution_count": null,
   "metadata": {
    "colab": {
     "base_uri": "https://localhost:8080/"
    },
    "id": "1aAZ_0Ewk4dH",
    "outputId": "9d21b83f-d510-4610-a85a-0e102706c9d4"
   },
   "outputs": [
    {
     "name": "stdout",
     "output_type": "stream",
     "text": [
      "enter a string shabana\n",
      "anabahs \n"
     ]
    }
   ],
   "source": [
    "a=input(\"enter a string\")\n",
    "for i in a:\n",
    "  b=a[::-1]\n",
    "print(b)"
   ]
  },
  {
   "cell_type": "code",
   "execution_count": null,
   "metadata": {
    "colab": {
     "base_uri": "https://localhost:8080/"
    },
    "id": "I3ABafCDjuck",
    "outputId": "c9711d76-9834-4eb5-f7ef-5818f730eccc"
   },
   "outputs": [
    {
     "name": "stdout",
     "output_type": "stream",
     "text": [
      "70\n",
      "rini\n",
      "56\n",
      "anu\n"
     ]
    }
   ],
   "source": [
    "a=[\"anu\",56,\"rini\",70]\n",
    "for i in reversed(a):\n",
    "  print(i)"
   ]
  },
  {
   "cell_type": "code",
   "execution_count": null,
   "metadata": {
    "colab": {
     "base_uri": "https://localhost:8080/"
    },
    "id": "x1qAOyMfkZFL",
    "outputId": "a95e9d1d-ef16-4719-8022-4629c6ee0e39"
   },
   "outputs": [
    {
     "name": "stdout",
     "output_type": "stream",
     "text": [
      "19 18 17 16 15 14 13 12 11 10 9 8 7 6 5 4 3 2 1 0 "
     ]
    }
   ],
   "source": [
    "for i in reversed(range(20)):\n",
    "  print(i,end=\" \")"
   ]
  },
  {
   "cell_type": "code",
   "execution_count": 10,
   "metadata": {
    "colab": {
     "base_uri": "https://localhost:8080/"
    },
    "id": "BWmq-0K4lZKJ",
    "outputId": "1358589b-6e23-4e41-a2fd-8b0ef9cd8d5d"
   },
   "outputs": [
    {
     "name": "stdout",
     "output_type": "stream",
     "text": [
      "cc bb 123 aa "
     ]
    }
   ],
   "source": [
    "a=[\"aa\",123,\"bb\",\"cc\"]\n",
    "for i in reversed(a):\n",
    "  print(i,end=\" \")"
   ]
  },
  {
   "cell_type": "code",
   "execution_count": null,
   "metadata": {
    "colab": {
     "base_uri": "https://localhost:8080/"
    },
    "id": "akvVlhJtb6MG",
    "outputId": "1bad2580-05e5-44b4-c1ea-001ee9727d75"
   },
   "outputs": [
    {
     "name": "stdout",
     "output_type": "stream",
     "text": [
      "odd number 2345\n",
      "odd number 8789\n",
      "even number 336\n",
      "odd number 45637\n",
      "odd number 2425\n",
      "even number 2222\n"
     ]
    }
   ],
   "source": [
    "#1 odd &even numbers in list\n",
    "a=[2345,8789,336,45637,2425,2222]\n",
    "for i in a:\n",
    "  if i%2==0:\n",
    "    print(\"even number\",i)\n",
    "  else:\n",
    "    print(\"odd number\",i)"
   ]
  },
  {
   "cell_type": "code",
   "execution_count": null,
   "metadata": {
    "colab": {
     "base_uri": "https://localhost:8080/"
    },
    "id": "-kLszvGmcAwl",
    "outputId": "92b7c128-c249-400b-947c-71a7e660c16e"
   },
   "outputs": [
    {
     "name": "stdout",
     "output_type": "stream",
     "text": [
      "john\n",
      "26\n",
      "kochi\n"
     ]
    }
   ],
   "source": [
    "#2 print values\n",
    "dict1={\"name\":\"john\",\"age\":26,\"address\":\"kochi\"}\n",
    "for i in dict1:\n",
    "  print(dict1[i])"
   ]
  },
  {
   "cell_type": "code",
   "execution_count": null,
   "metadata": {
    "id": "2Fc8SaufiFEY"
   },
   "outputs": [],
   "source": []
  },
  {
   "cell_type": "code",
   "execution_count": null,
   "metadata": {
    "colab": {
     "base_uri": "https://localhost:8080/"
    },
    "id": "9pRYn8vjfsfv",
    "outputId": "85d5b9b4-76d5-4292-a579-557c0a58aecd"
   },
   "outputs": [
    {
     "name": "stdout",
     "output_type": "stream",
     "text": [
      "input number6\n",
      "6 X 1 = 6\n",
      "6 X 2 = 12\n",
      "6 X 3 = 18\n",
      "6 X 4 = 24\n",
      "6 X 5 = 30\n",
      "6 X 6 = 36\n",
      "6 X 7 = 42\n",
      "6 X 8 = 48\n",
      "6 X 9 = 54\n",
      "6 X 10 = 60\n"
     ]
    }
   ],
   "source": [
    "#multiplication table\n",
    "a=int(input(\"input number\"))\n",
    "for i in range(1,11):\n",
    "  c=i*a \n",
    "  print(a,\"X\",i,\"=\",c)"
   ]
  },
  {
   "cell_type": "code",
   "execution_count": null,
   "metadata": {
    "colab": {
     "base_uri": "https://localhost:8080/"
    },
    "id": "Arxs4vDqiD6R",
    "outputId": "2f3a2a13-e9db-4d7f-d339-34e0759f3587"
   },
   "outputs": [
    {
     "name": "stdout",
     "output_type": "stream",
     "text": [
      "\n",
      "1\n",
      "22\n",
      "333\n",
      "4444\n",
      "55555\n",
      "666666\n",
      "7777777\n",
      "88888888\n",
      "999999999\n"
     ]
    }
   ],
   "source": [
    "#4 number pattern\n",
    "for i in range(10):\n",
    "  print(str(i)*i)\n",
    "\n",
    "  "
   ]
  },
  {
   "cell_type": "code",
   "execution_count": null,
   "metadata": {
    "id": "xsiw_o55wvKC"
   },
   "outputs": [],
   "source": []
  },
  {
   "cell_type": "code",
   "execution_count": null,
   "metadata": {
    "colab": {
     "base_uri": "https://localhost:8080/"
    },
    "id": "Zl_qcDq4mPTf",
    "outputId": "3d80c780-bddd-4a69-e278-d0ed89b38c95"
   },
   "outputs": [
    {
     "name": "stdout",
     "output_type": "stream",
     "text": [
      "enter the string liam2009@\n",
      "number of digit 4\n",
      "number of letters 4\n"
     ]
    }
   ],
   "source": [
    "#5 number of difits and strings\n",
    "a=input(\"enter the string\")\n",
    "d=0\n",
    "l=0\n",
    "for i in a:\n",
    "  if i.isdigit():\n",
    "    d=d+1\n",
    "  elif i.isalpha():\n",
    "    l=l+1\n",
    "  else:\n",
    "    pass\n",
    "print(\"number of digit\",d)\n",
    "print(\"number of letters\",l)\n",
    "    \n",
    "    "
   ]
  },
  {
   "cell_type": "code",
   "execution_count": null,
   "metadata": {
    "colab": {
     "base_uri": "https://localhost:8080/"
    },
    "id": "IY9wdTPTqp1f",
    "outputId": "347ebfdb-0cc3-433e-8c87-96a7d80e0707"
   },
   "outputs": [
    {
     "name": "stdout",
     "output_type": "stream",
     "text": [
      "enter a string liam\n",
      "2 ['a', 'i']\n"
     ]
    }
   ],
   "source": [
    "#6vowels in a string\n",
    "a=input(\"enter a string\")\n",
    "v=[\"a\",\"e\",\"i\",\"o\",\"u\"]\n",
    "b=[]\n",
    "for i in v:\n",
    "  if i in a:\n",
    "    b.append(i)\n",
    "print(len(b),b)\n",
    "\n",
    "\n"
   ]
  },
  {
   "cell_type": "code",
   "execution_count": null,
   "metadata": {
    "colab": {
     "base_uri": "https://localhost:8080/"
    },
    "id": "QfxvY0KTl9cI",
    "outputId": "284ece62-ff48-4ce1-d2a7-584c0151a0ca"
   },
   "outputs": [
    {
     "name": "stdout",
     "output_type": "stream",
     "text": [
      "15\n"
     ]
    }
   ],
   "source": [
    "#7 multiply\n",
    "a=[1,5,3]\n",
    "b=1\n",
    "for i in a:\n",
    "  b=b*i\n",
    "print(b)\n",
    "\n",
    "\n"
   ]
  },
  {
   "cell_type": "code",
   "execution_count": null,
   "metadata": {
    "colab": {
     "base_uri": "https://localhost:8080/"
    },
    "id": "G3Vp_NMUxw1v",
    "outputId": "b0b3f32c-f389-4871-f0a9-5f2bc0f05629"
   },
   "outputs": [
    {
     "name": "stdout",
     "output_type": "stream",
     "text": [
      "enter stringliam\n",
      "not equal\n",
      "not equal\n",
      "not equal\n",
      "not equal\n"
     ]
    }
   ],
   "source": [
    "#8\n",
    "a=input(\"enter string\")\n",
    "for i in a:\n",
    "  if a[0]==a[-1]:\n",
    "    print(\"equal\")\n",
    "  else:\n",
    "    print(\"not equal\")\n",
    "    "
   ]
  },
  {
   "cell_type": "code",
   "execution_count": null,
   "metadata": {
    "colab": {
     "base_uri": "https://localhost:8080/"
    },
    "id": "fRH3Mn1rT3uq",
    "outputId": "055cb690-61fc-49a1-cce3-af660e12b4f8"
   },
   "outputs": [
    {
     "name": "stdout",
     "output_type": "stream",
     "text": [
      "enter stringProgRaMs\n",
      "upper case letters ['P', 'R', 'M']\n",
      "lowercase letters ['r', 'o', 'g', 'a', 's']\n"
     ]
    }
   ],
   "source": [
    "#uppercase and lowercase letters\n",
    "a=input(\"enter string\")\n",
    "u=[]\n",
    "l=[]\n",
    "for i in a:\n",
    "  if i.isupper():\n",
    "    u.append(i)\n",
    "    #print(u)\n",
    "  elif i.islower():\n",
    "    l.append(i)\n",
    "    #print(l)\n",
    "print(\"upper case letters\",u)\n",
    "print(\"lowercase letters\",l)"
   ]
  },
  {
   "cell_type": "code",
   "execution_count": null,
   "metadata": {
    "colab": {
     "base_uri": "https://localhost:8080/"
    },
    "id": "C_bdSGYjxw3R",
    "outputId": "8b8b7994-8c0c-4925-a651-65ebbc3ca752"
   },
   "outputs": [
    {
     "name": "stdout",
     "output_type": "stream",
     "text": [
      " enter stringpython\n",
      "even position ['y', 'h', 'n']\n",
      "odd position ['p', 't', 'o']\n"
     ]
    }
   ],
   "source": [
    "even and odd position alphabets\n",
    "a=input(\" enter string\")\n",
    "e=[]\n",
    "o=[]\n",
    "for i in range(0,len(a)):\n",
    "  if i%2:\n",
    "    e.append(a[i])\n",
    "  else:\n",
    "    o.append(a[i])\n",
    "print(\"even position\",e)\n",
    "print(\"odd position\",o)"
   ]
  },
  {
   "cell_type": "code",
   "execution_count": null,
   "metadata": {
    "colab": {
     "base_uri": "https://localhost:8080/"
    },
    "id": "kk_Q_EJAwQ5R",
    "outputId": "ca02c2dd-65bc-46e4-d8dd-363c58492a59"
   },
   "outputs": [
    {
     "name": "stdout",
     "output_type": "stream",
     "text": [
      "enter a sentenceaaa nnn aaaa nnnnn\n",
      "even word ['nnn', 'nnnnn']\n",
      "odd word ['AAA', 'AAAA']\n"
     ]
    }
   ],
   "source": [
    "#find even and odd words\n",
    "a=input(\"enter a sentence\")\n",
    "list1=a.split()\n",
    "even=[]\n",
    "odd=[]\n",
    "for i in range(0,len(list1)):\n",
    "  if i%2:\n",
    "   even.append(list1[i])\n",
    "  else:\n",
    "    odd.append(list1[i].upper())\n",
    "print(\"even word\",even)\n",
    "print(\"odd word\",odd)\n"
   ]
  },
  {
   "cell_type": "code",
   "execution_count": null,
   "metadata": {
    "colab": {
     "base_uri": "https://localhost:8080/"
    },
    "id": "yNu24u75wxDY",
    "outputId": "b7b1b3d3-bccb-4aaf-ad4f-fcf61a402867"
   },
   "outputs": [
    {
     "name": "stdout",
     "output_type": "stream",
     "text": [
      "\n",
      "*\n",
      "**\n",
      "***\n",
      "****\n",
      "*****\n",
      "******\n",
      "*******\n",
      "********\n",
      "*********\n"
     ]
    }
   ],
   "source": [
    "#print * pattern\n",
    "a=10\n",
    "for i in range(a):\n",
    "  print(i*\"*\")"
   ]
  },
  {
   "cell_type": "code",
   "execution_count": null,
   "metadata": {
    "colab": {
     "base_uri": "https://localhost:8080/"
    },
    "id": "Axuus3F37I_H",
    "outputId": "83e180c6-558e-4518-ef66-125ffc645ada"
   },
   "outputs": [
    {
     "name": "stdout",
     "output_type": "stream",
     "text": [
      "enter the string liam 2009\n",
      "digits in the strings are 4 : ['2', '0', '0', '9']\n",
      "letters in the strings are 4 ['l', 'i', 'a', 'm']\n"
     ]
    }
   ],
   "source": [
    "#digits and letters in string\n",
    "a=input(\"enter the string\")\n",
    "d=[]\n",
    "d1=0\n",
    "l=[]\n",
    "l1=0\n",
    "for i in a:\n",
    "  if i.isdigit():\n",
    "    d1=d1+1\n",
    "    d.append(i)\n",
    "  elif i.isalpha():\n",
    "    l1=l1+1\n",
    "    l.append(i)\n",
    "  #else:\n",
    "    #pass\n",
    "print(\"digits in the strings are\",d1,\":\",d)\n",
    "print(\"letters in the strings are\",l1,\":\",l)"
   ]
  },
  {
   "cell_type": "markdown",
   "metadata": {
    "id": "FiNXFLBwzJji"
   },
   "source": []
  },
  {
   "cell_type": "code",
   "execution_count": null,
   "metadata": {
    "colab": {
     "base_uri": "https://localhost:8080/"
    },
    "id": "BIeWzzKnueZ7",
    "outputId": "dd249aac-f64c-4dda-97b8-8adf8f60f106"
   },
   "outputs": [
    {
     "name": "stdout",
     "output_type": "stream",
     "text": [
      "even numbers [2, 4, 6, 8, 10, 12, 14, 16, 18, 20, 22, 24, 26, 28, 30, 32, 34, 36, 38, 40, 42, 44, 46, 48, 50]\n",
      "odd numbers [1, 3, 5, 7, 9, 11, 13, 15, 17, 19, 21, 23, 25, 27, 29, 31, 33, 35, 37, 39, 41, 43, 45, 47, 49]\n"
     ]
    }
   ],
   "source": [
    "#even and odd numbers\n",
    "e=[]\n",
    "o=[]\n",
    "for i in range(1,51):\n",
    "  if(i%2==0):\n",
    "    e.append(i)\n",
    "  else:\n",
    "    o.append(i)\n",
    "print(\"even numbers\",e)\n",
    "print(\"odd numbers\",o)"
   ]
  },
  {
   "cell_type": "code",
   "execution_count": null,
   "metadata": {
    "colab": {
     "base_uri": "https://localhost:8080/"
    },
    "id": "q1p8U4givdLx",
    "outputId": "edd2e4b2-50ab-4edf-82b6-1d12ece03182"
   },
   "outputs": [
    {
     "name": "stdout",
     "output_type": "stream",
     "text": [
      "7 [21, 24, 27, 30, 33, 36, 39]\n"
     ]
    }
   ],
   "source": [
    "#divisible by 3\n",
    "a=[]\n",
    "for i in range(20,40):\n",
    "   if(i%3==0):\n",
    "    a.append(i)\n",
    "print(len(a),a)"
   ]
  },
  {
   "cell_type": "code",
   "execution_count": null,
   "metadata": {
    "colab": {
     "base_uri": "https://localhost:8080/"
    },
    "id": "16Vlu8Oyw9Mt",
    "outputId": "57a275ec-62a4-4239-be7e-827fea12ce25"
   },
   "outputs": [
    {
     "name": "stdout",
     "output_type": "stream",
     "text": [
      "[12, 24, 36, 48, 60, 72, 84, 96]\n",
      "[84]\n"
     ]
    }
   ],
   "source": [
    "#divisible by 12 and 14\n",
    "a=[]\n",
    "b=[]\n",
    "for i in range(1,100):\n",
    "  if(i%12==0):\n",
    "    a.append(i)\n",
    "print(a)\n",
    "for i in a:\n",
    "  if(i%14==0):\n",
    "    b.append(i)\n",
    "print(b)"
   ]
  },
  {
   "cell_type": "code",
   "execution_count": null,
   "metadata": {
    "colab": {
     "base_uri": "https://localhost:8080/"
    },
    "id": "ukDcxN3WzXnY",
    "outputId": "5a692b58-b5e8-4834-9faf-8617f6f72c42"
   },
   "outputs": [
    {
     "name": "stdout",
     "output_type": "stream",
     "text": [
      "enter a number 4\n",
      "4 is not prime\n"
     ]
    }
   ],
   "source": [
    "\n",
    "#prime or not\n",
    "a=int(input(\"enter a number\"))\n",
    "for i in range(2,a):\n",
    "  if(a%i==0):\n",
    "   print(a,\"is not prime\")\n",
    "   break\n",
    "  else:\n",
    "   print(a,\"is prime\")\n",
    "   break\n"
   ]
  },
  {
   "cell_type": "code",
   "execution_count": null,
   "metadata": {
    "colab": {
     "base_uri": "https://localhost:8080/"
    },
    "id": "QoyZe6cp5JZD",
    "outputId": "ee10c50d-0db0-4d30-e388-2840685d2376"
   },
   "outputs": [
    {
     "name": "stdout",
     "output_type": "stream",
     "text": [
      "enter user namearun\n",
      "enter pswrda123\n",
      "welcome\n"
     ]
    }
   ],
   "source": [
    "#username-arun,athul,jithin\n",
    "#password-a123,athul4,jithin39\n",
    "u=\"arun\"\n",
    "p=\"a123\"\n",
    "a=input(\"enter user name\")\n",
    "b=input(\"enter pswrd\")\n",
    "if a==u and b==p:\n",
    "  print(\"welcome\")\n",
    "else:\n",
    "  print(\"try again\")\n",
    "  \n",
    "\n",
    "  \n"
   ]
  },
  {
   "cell_type": "code",
   "execution_count": null,
   "metadata": {
    "colab": {
     "base_uri": "https://localhost:8080/"
    },
    "id": "fxUZ2uZ_a6EQ",
    "outputId": "0ea70bc2-a8fb-4df1-c780-2ef0abe36be3"
   },
   "outputs": [
    {
     "name": "stdout",
     "output_type": "stream",
     "text": [
      "enter user namearun\n",
      "enter pswrd4321\n",
      "try again\n"
     ]
    }
   ],
   "source": [
    "u=\"arun\",\"athul\",\"jithin\"\n",
    "p=\"a123\",\"athu14\",\"jithin39\"\n",
    "a=input(\"enter user name\")\n",
    "b=input(\"enter pswrd\")\n",
    "if a==\"arun\" and b==\"a123\":\n",
    "  print(\"welcome\")\n",
    "if a==\"athul\" and b==\"athu14\":\n",
    "  print(\"welcome\")\n",
    "if a==\"jithin\" and b==\"jithin39\":\n",
    "  print(\"welcome\")\n",
    "else:\n",
    "  print(\"try again\")\n",
    "  "
   ]
  },
  {
   "cell_type": "code",
   "execution_count": null,
   "metadata": {
    "colab": {
     "base_uri": "https://localhost:8080/"
    },
    "id": "98PwW4BxXiiN",
    "outputId": "d89a076a-2ad1-4f13-b716-9e27bfab1699"
   },
   "outputs": [
    {
     "name": "stdout",
     "output_type": "stream",
     "text": [
      "enter the usernameaaa\n",
      "invalid user\n"
     ]
    }
   ],
   "source": [
    "a=[\"arun\",\"athul\",\"jithin\"]\n",
    "b=[\"a123\",\"athul4\",\"jithin39\"]\n",
    "name=input(\"enter the username\")\n",
    "if name in a:\n",
    "   pass_wd=input(\"enter your password\")\n",
    "   ind=a.index(name)\n",
    "   if pass_wd in b and ind==b.index(pass_wd):\n",
    "     print(\"welcome\")\n",
    "   else:\n",
    "     print(\"incorrect password\")\n",
    "else:\n",
    "   print(\"invalid user\")"
   ]
  },
  {
   "cell_type": "code",
   "execution_count": null,
   "metadata": {
    "id": "pAZfU4al1HFw"
   },
   "outputs": [],
   "source": [
    "#dictionaries in python\n",
    "a={15:\"athul\",25:\"arun\",30:\"liam\",40:\"jithin\",20:\"rini\"}"
   ]
  },
  {
   "cell_type": "code",
   "execution_count": null,
   "metadata": {
    "colab": {
     "base_uri": "https://localhost:8080/"
    },
    "id": "bRRoCzUJ15CG",
    "outputId": "d2aa0afd-f773-4609-ac23-18ba0cfbf108"
   },
   "outputs": [
    {
     "name": "stdout",
     "output_type": "stream",
     "text": [
      "dict_keys([15, 25, 30, 40, 20])\n"
     ]
    }
   ],
   "source": [
    "print(a.keys())"
   ]
  },
  {
   "cell_type": "code",
   "execution_count": null,
   "metadata": {
    "colab": {
     "base_uri": "https://localhost:8080/"
    },
    "id": "yUO3zF1N3Jcs",
    "outputId": "844e52dc-e2d9-4fa2-ec75-171c7ddbe26b"
   },
   "outputs": [
    {
     "name": "stdout",
     "output_type": "stream",
     "text": [
      "dict_values(['athul', 'arun', 'liam', 'jithin', 'rini'])\n"
     ]
    }
   ],
   "source": [
    "print(a.values())"
   ]
  },
  {
   "cell_type": "code",
   "execution_count": null,
   "metadata": {
    "colab": {
     "base_uri": "https://localhost:8080/"
    },
    "id": "suqZCWoD3JeL",
    "outputId": "4724fc22-87c0-4e66-924d-5c18707633ec"
   },
   "outputs": [
    {
     "name": "stdout",
     "output_type": "stream",
     "text": [
      "athul\n"
     ]
    }
   ],
   "source": [
    "print(a.__getitem__(15))"
   ]
  },
  {
   "cell_type": "code",
   "execution_count": null,
   "metadata": {
    "colab": {
     "base_uri": "https://localhost:8080/"
    },
    "id": "OuyZTQX43Jhi",
    "outputId": "21afc629-51c7-4060-d508-1ffb38db1f24"
   },
   "outputs": [
    {
     "name": "stdout",
     "output_type": "stream",
     "text": [
      "{15: 'athul', 25: 'arun', 30: 'liam', 40: 'jithin', 20: 'rini', 50: 'anu'}\n"
     ]
    }
   ],
   "source": [
    "a.update({50:\"anu\"})\n",
    "print(a)"
   ]
  },
  {
   "cell_type": "code",
   "execution_count": null,
   "metadata": {
    "id": "AJjCkrka3Jlz"
   },
   "outputs": [],
   "source": [
    "(a.__setitem__(24,\"roshan\"))"
   ]
  },
  {
   "cell_type": "code",
   "execution_count": null,
   "metadata": {
    "colab": {
     "base_uri": "https://localhost:8080/"
    },
    "id": "A7e-KXnb3Jqo",
    "outputId": "2070c78b-2175-40d9-d731-73de0847e41b"
   },
   "outputs": [
    {
     "name": "stdout",
     "output_type": "stream",
     "text": [
      "{15: 'athul', 25: 'arun', 30: 'liam', 40: 'jithin', 20: 'rini', 50: 'anu', 24: 'roshan'}\n"
     ]
    }
   ],
   "source": [
    "print(a)"
   ]
  },
  {
   "cell_type": "code",
   "execution_count": null,
   "metadata": {
    "colab": {
     "base_uri": "https://localhost:8080/",
     "height": 35
    },
    "id": "ZERna9TM3Jt5",
    "outputId": "150b6025-9208-47e1-a393-3aae3c7101b0"
   },
   "outputs": [
    {
     "data": {
      "application/vnd.google.colaboratory.intrinsic+json": {
       "type": "string"
      },
      "text/plain": [
       "'roshan'"
      ]
     },
     "execution_count": 30,
     "metadata": {},
     "output_type": "execute_result"
    }
   ],
   "source": [
    "a.pop(24)\n",
    "\n"
   ]
  },
  {
   "cell_type": "code",
   "execution_count": null,
   "metadata": {
    "colab": {
     "base_uri": "https://localhost:8080/"
    },
    "id": "2BIy1J2t3JwQ",
    "outputId": "9a604d7c-8e6f-4e98-fe9b-3ec53630924a"
   },
   "outputs": [
    {
     "name": "stdout",
     "output_type": "stream",
     "text": [
      "{15: 'athul', 25: 'arun', 30: 'liam', 40: 'jithin', 20: 'rini', 50: 'anu'}\n"
     ]
    }
   ],
   "source": [
    "print(a)\n"
   ]
  },
  {
   "cell_type": "code",
   "execution_count": null,
   "metadata": {
    "colab": {
     "base_uri": "https://localhost:8080/"
    },
    "id": "g7y384hv7l0N",
    "outputId": "0021e8ee-f28a-4720-fa0a-6414cf0d947d"
   },
   "outputs": [
    {
     "name": "stdout",
     "output_type": "stream",
     "text": [
      "(50, 'anu')\n"
     ]
    }
   ],
   "source": [
    "print(a.popitem())\n"
   ]
  },
  {
   "cell_type": "code",
   "execution_count": null,
   "metadata": {
    "colab": {
     "base_uri": "https://localhost:8080/"
    },
    "id": "mKtdg7qa7l4U",
    "outputId": "62213885-939e-43eb-8b8f-7168f251cec8"
   },
   "outputs": [
    {
     "name": "stdout",
     "output_type": "stream",
     "text": [
      "{15: 'athul', 25: 'arun', 30: 'liam', 40: 'jithin', 20: 'rini'}\n"
     ]
    }
   ],
   "source": [
    "print(a)"
   ]
  },
  {
   "cell_type": "code",
   "execution_count": null,
   "metadata": {
    "colab": {
     "base_uri": "https://localhost:8080/"
    },
    "id": "D5Yt2eIc7l8U",
    "outputId": "b93fc568-bc29-438e-c51c-ebee3ecff5bb"
   },
   "outputs": [
    {
     "name": "stdout",
     "output_type": "stream",
     "text": [
      "liam\n"
     ]
    }
   ],
   "source": [
    "print(a.pop(30))"
   ]
  },
  {
   "cell_type": "code",
   "execution_count": null,
   "metadata": {
    "colab": {
     "base_uri": "https://localhost:8080/"
    },
    "id": "-raKuW3I7l_V",
    "outputId": "360add22-1c8c-4a18-f30c-00277a08d3d7"
   },
   "outputs": [
    {
     "name": "stdout",
     "output_type": "stream",
     "text": [
      "{15: 'athul', 25: 'arun', 40: 'jithin', 20: 'rini'}\n"
     ]
    }
   ],
   "source": [
    "print(a)"
   ]
  },
  {
   "cell_type": "code",
   "execution_count": null,
   "metadata": {
    "colab": {
     "base_uri": "https://localhost:8080/"
    },
    "id": "vDd8qb2d7mCd",
    "outputId": "8e31631f-9dd9-4d96-e2fe-13435b7938ea"
   },
   "outputs": [
    {
     "name": "stdout",
     "output_type": "stream",
     "text": [
      "enter nameanu\n",
      "enter age12\n",
      "enter namekrithi\n",
      "enter age13\n",
      "enter namerony\n",
      "enter age15\n",
      "enter nameammu\n",
      "enter age10\n",
      "enter nameani\n",
      "enter age11\n",
      "{'anu': 12, 'krithi': 13, 'rony': 15, 'ammu': 10, 'ani': 11}\n"
     ]
    }
   ],
   "source": [
    "a={}\n",
    "for i in range(5):\n",
    "  b=input(\"enter name\")\n",
    "  c=int(input(\"enter age\"))\n",
    "  a.__setitem__(b,c)\n",
    "print(a)\n"
   ]
  },
  {
   "cell_type": "code",
   "execution_count": null,
   "metadata": {
    "id": "RT1JVsg87mFb"
   },
   "outputs": [],
   "source": [
    "dict={\"name\": \"Plato\", \"country\": \"Ancient Greece\", \"born\": -427, \"teacher\": \"Socrates\", \"student\": \"Aristotle\"}"
   ]
  },
  {
   "cell_type": "code",
   "execution_count": null,
   "metadata": {
    "colab": {
     "base_uri": "https://localhost:8080/"
    },
    "id": "9QVv8X1U7mID",
    "outputId": "1ff8c8f6-b3f0-405e-dcfc-affc1415d29a"
   },
   "outputs": [
    {
     "name": "stdout",
     "output_type": "stream",
     "text": [
      "-427\n"
     ]
    }
   ],
   "source": [
    "print(dict.__getitem__(\"born\"))"
   ]
  },
  {
   "cell_type": "code",
   "execution_count": null,
   "metadata": {
    "id": "wnZA_qmQCNvH"
   },
   "outputs": [],
   "source": [
    " #Change Plato's birth year from B.C. 427 to B.C. 428.\n",
    " #\"work\": [\"Apology\", \"Phaedo\", \"Republic\", \"Symposium\"]\n"
   ]
  },
  {
   "cell_type": "code",
   "execution_count": null,
   "metadata": {
    "colab": {
     "base_uri": "https://localhost:8080/"
    },
    "id": "0XTQ3td7CfsV",
    "outputId": "78126862-af24-4a5e-9be5-7016de79ae70"
   },
   "outputs": [
    {
     "name": "stdout",
     "output_type": "stream",
     "text": [
      "{'name': 'Plato', 'country': 'Ancient Greece', 'born': 428, 'teacher': 'Socrates', 'student': 'Aristotle'}\n"
     ]
    }
   ],
   "source": [
    "dict.__setitem__(\"born\",428)\n",
    "print(dict)"
   ]
  },
  {
   "cell_type": "code",
   "execution_count": null,
   "metadata": {
    "colab": {
     "base_uri": "https://localhost:8080/"
    },
    "id": "MYWWiFhLCfyD",
    "outputId": "a8a551d0-0ae5-4a1d-8b0f-1478b600fb7f"
   },
   "outputs": [
    {
     "name": "stdout",
     "output_type": "stream",
     "text": [
      "{'name': 'Plato', 'country': 'Ancient Greece', 'born': 428, 'teacher': 'Socrates', 'student': 'Aristotle', 'work': 'symposium'}\n"
     ]
    }
   ],
   "source": [
    "dict.__setitem__(\"work\",\"symposium\")\n",
    "print(dict)"
   ]
  },
  {
   "cell_type": "code",
   "execution_count": null,
   "metadata": {
    "id": "iQhccgsyCf2D"
   },
   "outputs": [],
   "source": [
    "#string functions:\n",
    "a=\"1234\""
   ]
  },
  {
   "cell_type": "code",
   "execution_count": null,
   "metadata": {
    "colab": {
     "base_uri": "https://localhost:8080/"
    },
    "id": "146H9iTCCf6Y",
    "outputId": "ea92f487-b27b-4d87-c427-6471761473d9"
   },
   "outputs": [
    {
     "name": "stdout",
     "output_type": "stream",
     "text": [
      "True\n"
     ]
    }
   ],
   "source": [
    "print(a.isnumeric())"
   ]
  },
  {
   "cell_type": "code",
   "execution_count": null,
   "metadata": {
    "colab": {
     "base_uri": "https://localhost:8080/"
    },
    "id": "65NsgshgCf9D",
    "outputId": "602a3d98-ecb4-4b44-bb6e-84e1784f8f3e"
   },
   "outputs": [
    {
     "name": "stdout",
     "output_type": "stream",
     "text": [
      "False\n"
     ]
    }
   ],
   "source": [
    "a=\"liam\"\n",
    "print(a.isnumeric())"
   ]
  },
  {
   "cell_type": "code",
   "execution_count": null,
   "metadata": {
    "colab": {
     "base_uri": "https://localhost:8080/"
    },
    "id": "nx_R3IPiCf_I",
    "outputId": "a86e2b52-72d5-4a9a-c9ae-8373c66378d0"
   },
   "outputs": [
    {
     "name": "stdout",
     "output_type": "stream",
     "text": [
      "False\n"
     ]
    }
   ],
   "source": [
    "a=\"welcome to python class\"\n",
    "print(a.startswith(\"a\"))\n",
    "\n",
    "\n",
    "\n"
   ]
  },
  {
   "cell_type": "code",
   "execution_count": null,
   "metadata": {
    "colab": {
     "base_uri": "https://localhost:8080/"
    },
    "id": "WzGB2SunCgBA",
    "outputId": "164ab165-11c6-4abb-e58f-e3d0d1114f58"
   },
   "outputs": [
    {
     "name": "stdout",
     "output_type": "stream",
     "text": [
      "True\n"
     ]
    }
   ],
   "source": [
    "print(a.startswith(\"w\"))"
   ]
  },
  {
   "cell_type": "code",
   "execution_count": null,
   "metadata": {
    "colab": {
     "base_uri": "https://localhost:8080/"
    },
    "id": "YIv1EGHECNyt",
    "outputId": "78866846-abeb-40bf-8b70-52d6c053302b"
   },
   "outputs": [
    {
     "name": "stdout",
     "output_type": "stream",
     "text": [
      "WELCOME TO PYTHON CLASS\n"
     ]
    }
   ],
   "source": [
    "print(a.upper())"
   ]
  },
  {
   "cell_type": "code",
   "execution_count": null,
   "metadata": {
    "colab": {
     "base_uri": "https://localhost:8080/"
    },
    "id": "lmrOe3YjCN1-",
    "outputId": "1a8a74c1-c772-401d-e35b-96c46bb2e4c8"
   },
   "outputs": [
    {
     "name": "stdout",
     "output_type": "stream",
     "text": [
      "welcome to python class\n"
     ]
    }
   ],
   "source": [
    "print(a.lower())\n"
   ]
  },
  {
   "cell_type": "code",
   "execution_count": null,
   "metadata": {
    "colab": {
     "base_uri": "https://localhost:8080/"
    },
    "id": "Enka2sorCN5K",
    "outputId": "5e9bf556-249a-458d-ac37-0993a20bbe40"
   },
   "outputs": [
    {
     "name": "stdout",
     "output_type": "stream",
     "text": [
      "3\n"
     ]
    }
   ],
   "source": [
    "print(a.count(\"o\"))"
   ]
  },
  {
   "cell_type": "code",
   "execution_count": null,
   "metadata": {
    "colab": {
     "base_uri": "https://localhost:8080/"
    },
    "id": "EDLXZdolCN7q",
    "outputId": "e6fcae83-7c9f-42a2-bcb0-1a21e03d058f"
   },
   "outputs": [
    {
     "name": "stdout",
     "output_type": "stream",
     "text": [
      "4\n"
     ]
    }
   ],
   "source": [
    "print(a.find(\"o\"))\n",
    "\n",
    "\n"
   ]
  },
  {
   "cell_type": "code",
   "execution_count": null,
   "metadata": {
    "colab": {
     "base_uri": "https://localhost:8080/"
    },
    "id": "DIZUEdxDCN-t",
    "outputId": "11031da9-d97f-4a0a-f04b-46b8e879c959"
   },
   "outputs": [
    {
     "name": "stdout",
     "output_type": "stream",
     "text": [
      "welcome to java class\n"
     ]
    }
   ],
   "source": [
    "print(a.replace(\"python\",\"java\"))"
   ]
  },
  {
   "cell_type": "code",
   "execution_count": null,
   "metadata": {
    "colab": {
     "base_uri": "https://localhost:8080/"
    },
    "id": "DZG4rv0h7mK1",
    "outputId": "c104860c-8a8d-4b2b-b42a-2fa3a7779b70"
   },
   "outputs": [
    {
     "name": "stdout",
     "output_type": "stream",
     "text": [
      "welcome to python class\n"
     ]
    }
   ],
   "source": [
    "print(a.lstrip())"
   ]
  },
  {
   "cell_type": "code",
   "execution_count": null,
   "metadata": {
    "colab": {
     "base_uri": "https://localhost:8080/"
    },
    "id": "qIGfZAXqW9wr",
    "outputId": "cfdd607d-74b0-4b28-e21d-6803a4f27019"
   },
   "outputs": [
    {
     "name": "stdout",
     "output_type": "stream",
     "text": [
      "welcome to python class\n"
     ]
    }
   ],
   "source": [
    "print(a)"
   ]
  },
  {
   "cell_type": "code",
   "execution_count": null,
   "metadata": {
    "colab": {
     "base_uri": "https://localhost:8080/"
    },
    "id": "wprmrRQGW97e",
    "outputId": "a3704003-ff59-4d40-b4a7-1227762c52fb"
   },
   "outputs": [
    {
     "name": "stdout",
     "output_type": "stream",
     "text": [
      "['welcome', 'to', 'python', 'class']\n"
     ]
    }
   ],
   "source": [
    "print(a.split())"
   ]
  },
  {
   "cell_type": "code",
   "execution_count": null,
   "metadata": {
    "colab": {
     "base_uri": "https://localhost:8080/"
    },
    "id": "cwIRGLoDW-FD",
    "outputId": "d496eec4-78a8-4cb9-ce45-e8f5e530204e"
   },
   "outputs": [
    {
     "name": "stdout",
     "output_type": "stream",
     "text": [
      "['welcome ', ' python class']\n"
     ]
    }
   ],
   "source": [
    "print(a.split(\"to\"))"
   ]
  },
  {
   "cell_type": "code",
   "execution_count": null,
   "metadata": {
    "colab": {
     "base_uri": "https://localhost:8080/"
    },
    "id": "Ce4T15f-YMNW",
    "outputId": "a9480e2d-6d35-4a5e-d58d-414333fa2554"
   },
   "outputs": [
    {
     "name": "stdout",
     "output_type": "stream",
     "text": [
      "enter a namePavithra\n",
      "welcome\n"
     ]
    }
   ],
   "source": [
    "####\n",
    "a=input(\"enter a name\")\n",
    "if a.startswith(\"p\") or a.startswith(\"P\"):\n",
    "  print(\"welcome\")\n",
    "else:\n",
    "  print(\"no entry\")"
   ]
  },
  {
   "cell_type": "code",
   "execution_count": null,
   "metadata": {
    "colab": {
     "base_uri": "https://localhost:8080/"
    },
    "id": "TnHMVZrhYMad",
    "outputId": "bc8e6cf3-4ce0-404a-b045-fc3cdf6ea3c7"
   },
   "outputs": [
    {
     "name": "stdout",
     "output_type": "stream",
     "text": [
      "[]\n"
     ]
    }
   ],
   "source": []
  },
  {
   "cell_type": "code",
   "execution_count": null,
   "metadata": {
    "colab": {
     "base_uri": "https://localhost:8080/"
    },
    "id": "fP-M43xpYMd1",
    "outputId": "30e6f152-f784-4c26-def5-d43076c30275"
   },
   "outputs": [
    {
     "name": "stdout",
     "output_type": "stream",
     "text": [
      "a= 2\n",
      "e= 7\n",
      "i= 0\n",
      "o= 5\n",
      "u= 0\n"
     ]
    }
   ],
   "source": [
    "\n",
    "#find vowels\n",
    "a=\"welcome to python class, we are python developers\"\n",
    "if\"a\" in a or \"e\" in a or \"i\" in a or\"o\" in a or \"u\" in a:\n",
    "  print(\"a=\",a.count(\"a\"))\n",
    "  print(\"e=\",a.count(\"e\"))\n",
    "  print(\"i=\",a.count(\"i\"))\n",
    "  print(\"o=\",a.count(\"o\"))\n",
    "  print(\"u=\",a.count(\"u\"))\n",
    "\n",
    "\n"
   ]
  },
  {
   "cell_type": "code",
   "execution_count": null,
   "metadata": {
    "colab": {
     "base_uri": "https://localhost:8080/"
    },
    "id": "gK2dC6x3YMi9",
    "outputId": "bd435eae-9895-49c2-d753-bc9adb8615fb"
   },
   "outputs": [
    {
     "name": "stdout",
     "output_type": "stream",
     "text": [
      "vowels in the given strings are 14\n"
     ]
    }
   ],
   "source": [
    "a=\"welcome to python class, we are python developers\"\n",
    "#S=0\n",
    "V=a.count(\"a\")\n",
    "O=a.count(\"e\")\n",
    "W=a.count(\"i\")\n",
    "E=a.count(\"o\")\n",
    "L=a.count(\"u\")\n",
    "S=V+O+W+E+L\n",
    "print(\"vowels in the given strings are\",S)"
   ]
  },
  {
   "cell_type": "code",
   "execution_count": null,
   "metadata": {
    "colab": {
     "base_uri": "https://localhost:8080/"
    },
    "id": "INmbGVKVYMoK",
    "outputId": "24838649-3148-4d77-ed5e-8540a965fbcd"
   },
   "outputs": [
    {
     "name": "stdout",
     "output_type": "stream",
     "text": [
      "10\n"
     ]
    }
   ],
   "source": [
    "a=\"welcome to python class, we are python developers\"\n",
    "vowels=[\"a\",\"A\",\"e\",\"E\",\"i\",\"I\",\"o\",\"O\",\"u\",\"U\"]\n",
    "count=0\n",
    "for i in vowels:\n",
    "  count=count+1\n",
    "  #count=count+a.count(i)\n",
    "print(count)"
   ]
  },
  {
   "cell_type": "code",
   "execution_count": null,
   "metadata": {
    "colab": {
     "base_uri": "https://localhost:8080/"
    },
    "id": "YB7SxkIvYMsO",
    "outputId": "8b966539-d9ed-4a0e-c59d-bba3012332a1"
   },
   "outputs": [
    {
     "name": "stdout",
     "output_type": "stream",
     "text": [
      "('abc', 34, True, 40, 'male')\n"
     ]
    }
   ],
   "source": [
    "#tuple\n",
    "tuple1 = (\"abc\", 34, True, 40, \"male\")\n",
    "\n",
    "print(tuple1)\n"
   ]
  },
  {
   "cell_type": "code",
   "execution_count": null,
   "metadata": {
    "colab": {
     "base_uri": "https://localhost:8080/"
    },
    "id": "dRt38CWAYMyD",
    "outputId": "c29f4180-5964-4d1d-fc63-23edab4dfc06"
   },
   "outputs": [
    {
     "name": "stdout",
     "output_type": "stream",
     "text": [
      "('apple', 'banana', 'cherry', 'apple', 'cherry')\n"
     ]
    }
   ],
   "source": [
    "tuple = (\"apple\", \"banana\", \"cherry\", \"apple\", \"cherry\")\n",
    "print(tuple)"
   ]
  },
  {
   "cell_type": "code",
   "execution_count": null,
   "metadata": {
    "colab": {
     "base_uri": "https://localhost:8080/"
    },
    "id": "8Z5K_MvzYM6j",
    "outputId": "f85a6c49-3352-4046-863b-2c1f1d12871f"
   },
   "outputs": [
    {
     "data": {
      "text/plain": [
       "5"
      ]
     },
     "execution_count": 44,
     "metadata": {},
     "output_type": "execute_result"
    }
   ],
   "source": [
    "len(tuple)"
   ]
  },
  {
   "cell_type": "code",
   "execution_count": null,
   "metadata": {
    "colab": {
     "base_uri": "https://localhost:8080/"
    },
    "id": "2gLNBXE-clYk",
    "outputId": "26e9c165-fac8-4b66-ebfd-b05a123fbdac"
   },
   "outputs": [
    {
     "name": "stdout",
     "output_type": "stream",
     "text": [
      "<class 'tuple'>\n"
     ]
    }
   ],
   "source": [
    "print(type(tuple))"
   ]
  },
  {
   "cell_type": "code",
   "execution_count": null,
   "metadata": {
    "colab": {
     "base_uri": "https://localhost:8080/"
    },
    "id": "ykKkvo3Rclep",
    "outputId": "c8006db6-ccd4-4319-df81-516a695c6bfe"
   },
   "outputs": [
    {
     "name": "stdout",
     "output_type": "stream",
     "text": [
      "<class 'tuple'>\n"
     ]
    }
   ],
   "source": [
    "thistuple = (\"apple\",)\n",
    "print(type(thistuple))"
   ]
  },
  {
   "cell_type": "markdown",
   "metadata": {
    "id": "nRY9GfBOb9oN"
   },
   "source": []
  },
  {
   "cell_type": "markdown",
   "metadata": {
    "id": "9qmmEJKkb_Lm"
   },
   "source": []
  }
 ],
 "metadata": {
  "colab": {
   "collapsed_sections": [],
   "name": "listpgms.ipynb",
   "provenance": []
  },
  "kernelspec": {
   "display_name": "Python 3 (ipykernel)",
   "language": "python",
   "name": "python3"
  },
  "language_info": {
   "codemirror_mode": {
    "name": "ipython",
    "version": 3
   },
   "file_extension": ".py",
   "mimetype": "text/x-python",
   "name": "python",
   "nbconvert_exporter": "python",
   "pygments_lexer": "ipython3",
   "version": "3.9.7"
  }
 },
 "nbformat": 4,
 "nbformat_minor": 4
}
