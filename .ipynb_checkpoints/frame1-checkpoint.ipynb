{
 "cells": [
  {
   "cell_type": "code",
   "execution_count": 5,
   "id": "2387ce80-395c-4d59-898c-18bea7db374a",
   "metadata": {},
   "outputs": [],
   "source": [
    "import sklearn\n",
    "from matplotlib import pyplot as plt\n",
    "import pandas as pd\n",
    "import numpy as np\n"
   ]
  },
  {
   "cell_type": "markdown",
   "id": "aeac0f52-d2d4-443b-ac31-eeb1306b50d5",
   "metadata": {},
   "source": [
    "DATA ANALYSING STEPS:-"
   ]
  },
  {
   "cell_type": "code",
   "execution_count": 6,
   "id": "8a6d44b9-976f-44c6-9e13-4756d68aaedf",
   "metadata": {},
   "outputs": [],
   "source": [
    "data={\"height\":[160,170,162,182,177],\"weight\":[55,65,45,74,85]}"
   ]
  },
  {
   "cell_type": "code",
   "execution_count": 7,
   "id": "b0fa02fd-b853-4170-8abd-6d45ac5c8f64",
   "metadata": {},
   "outputs": [],
   "source": [
    "a=pd.DataFrame(data)"
   ]
  },
  {
   "cell_type": "code",
   "execution_count": 4,
   "id": "63ca509c-3621-4e2c-af28-bb29b771ce33",
   "metadata": {},
   "outputs": [
    {
     "data": {
      "text/html": [
       "<div>\n",
       "<style scoped>\n",
       "    .dataframe tbody tr th:only-of-type {\n",
       "        vertical-align: middle;\n",
       "    }\n",
       "\n",
       "    .dataframe tbody tr th {\n",
       "        vertical-align: top;\n",
       "    }\n",
       "\n",
       "    .dataframe thead th {\n",
       "        text-align: right;\n",
       "    }\n",
       "</style>\n",
       "<table border=\"1\" class=\"dataframe\">\n",
       "  <thead>\n",
       "    <tr style=\"text-align: right;\">\n",
       "      <th></th>\n",
       "      <th>height</th>\n",
       "      <th>weight</th>\n",
       "    </tr>\n",
       "  </thead>\n",
       "  <tbody>\n",
       "    <tr>\n",
       "      <th>0</th>\n",
       "      <td>160</td>\n",
       "      <td>55</td>\n",
       "    </tr>\n",
       "    <tr>\n",
       "      <th>1</th>\n",
       "      <td>170</td>\n",
       "      <td>65</td>\n",
       "    </tr>\n",
       "    <tr>\n",
       "      <th>2</th>\n",
       "      <td>162</td>\n",
       "      <td>45</td>\n",
       "    </tr>\n",
       "    <tr>\n",
       "      <th>3</th>\n",
       "      <td>182</td>\n",
       "      <td>74</td>\n",
       "    </tr>\n",
       "    <tr>\n",
       "      <th>4</th>\n",
       "      <td>177</td>\n",
       "      <td>85</td>\n",
       "    </tr>\n",
       "  </tbody>\n",
       "</table>\n",
       "</div>"
      ],
      "text/plain": [
       "   height  weight\n",
       "0     160      55\n",
       "1     170      65\n",
       "2     162      45\n",
       "3     182      74\n",
       "4     177      85"
      ]
     },
     "execution_count": 4,
     "metadata": {},
     "output_type": "execute_result"
    }
   ],
   "source": [
    "a"
   ]
  },
  {
   "cell_type": "code",
   "execution_count": 9,
   "id": "7c7b18f9-8313-480a-9c58-28d3a5e48129",
   "metadata": {},
   "outputs": [
    {
     "data": {
      "text/plain": [
       "<matplotlib.collections.PathCollection at 0x1af71ade070>"
      ]
     },
     "execution_count": 9,
     "metadata": {},
     "output_type": "execute_result"
    },
    {
     "data": {
      "image/png": "[encoded data removed]",
      "text/plain": [
       "<Figure size 432x288 with 1 Axes>"
      ]
     },
     "metadata": {
      "needs_background": "light"
     },
     "output_type": "display_data"
    }
   ],
   "source": [
    "plt.scatter(a[\"height\"],a[\"weight\"])"
   ]
  },
  {
   "cell_type": "markdown",
   "id": "7d71938a-8469-46e0-89cd-b4a4851d9e27",
   "metadata": {},
   "source": [
    "DATA PREPROCESSING STEPS:-"
   ]
  },
  {
   "cell_type": "code",
   "execution_count": 18,
   "id": "4ca45565-11c5-4594-9d38-f1d99691b835",
   "metadata": {},
   "outputs": [],
   "source": [
    "x=a[[\"height\"]]\n",
    "y=a[[\"weight\"]]"
   ]
  },
  {
   "cell_type": "markdown",
   "id": "4fe0a9fd-9cf1-4368-9e39-5046aa658c48",
   "metadata": {},
   "source": [
    "MODEL CREATION"
   ]
  },
  {
   "cell_type": "code",
   "execution_count": 19,
   "id": "1f38e554-9cf2-4ece-a67b-734ae0d63b20",
   "metadata": {},
   "outputs": [],
   "source": [
    "from sklearn.linear_model import LinearRegression"
   ]
  },
  {
   "cell_type": "code",
   "execution_count": 20,
   "id": "d0ac452a-bc01-4d30-a67d-e1a0f6069f8f",
   "metadata": {},
   "outputs": [],
   "source": [
    "model=LinearRegression()"
   ]
  },
  {
   "cell_type": "markdown",
   "id": "777c6362-2616-46ac-8731-91f2dd9379a8",
   "metadata": {},
   "source": [
    "TRAINING THE DATA:-\n"
   ]
  },
  {
   "cell_type": "code",
   "execution_count": 21,
   "id": "9dd721b8-6778-4a6e-b0e8-fa619cd8fde9",
   "metadata": {},
   "outputs": [
    {
     "data": {
      "text/plain": [
       "LinearRegression()"
      ]
     },
     "execution_count": 21,
     "metadata": {},
     "output_type": "execute_result"
    }
   ],
   "source": [
    " model.fit(x,y)"
   ]
  },
  {
   "cell_type": "markdown",
   "id": "1ec04f38-25a1-4046-b80e-adce9ebdabea",
   "metadata": {},
   "source": [
    "TESTING THE DATA(PREDICTION):-"
   ]
  },
  {
   "cell_type": "code",
   "execution_count": 22,
   "id": "5516da37-0cb8-4a67-9069-d952342cb379",
   "metadata": {},
   "outputs": [
    {
     "data": {
      "text/plain": [
       "array([[55.9691704]])"
      ]
     },
     "execution_count": 22,
     "metadata": {},
     "output_type": "execute_result"
    }
   ],
   "source": [
    "model.predict([[164]])"
   ]
  },
  {
   "cell_type": "code",
   "execution_count": 24,
   "id": "fd42f224-151e-41ce-83b5-bca097e8dc81",
   "metadata": {},
   "outputs": [
    {
     "data": {
      "text/plain": [
       "array([[53.1205157]])"
      ]
     },
     "execution_count": 24,
     "metadata": {},
     "output_type": "execute_result"
    }
   ],
   "source": [
    "model.predict([[162]])"
   ]
  },
  {
   "cell_type": "code",
   "execution_count": 25,
   "id": "159100e5-bfa1-462f-9c2d-8d0cbf5d7b98",
   "metadata": {},
   "outputs": [
    {
     "data": {
      "text/plain": [
       "array([[50.27186099]])"
      ]
     },
     "execution_count": 25,
     "metadata": {},
     "output_type": "execute_result"
    }
   ],
   "source": [
    "model.predict([[160]])"
   ]
  },
  {
   "cell_type": "code",
   "execution_count": null,
   "id": "5da252ae-c4aa-4ac6-a15f-9a2bc786fed4",
   "metadata": {},
   "outputs": [],
   "source": [
    "\n"
   ]
  }
 ],
 "metadata": {
  "kernelspec": {
   "display_name": "Python 3 (ipykernel)",
   "language": "python",
   "name": "python3"
  },
  "language_info": {
   "codemirror_mode": {
    "name": "ipython",
    "version": 3
   },
   "file_extension": ".py",
   "mimetype": "text/x-python",
   "name": "python",
   "nbconvert_exporter": "python",
   "pygments_lexer": "ipython3",
   "version": "3.9.7"
  }
 },
 "nbformat": 4,
 "nbformat_minor": 5
}
