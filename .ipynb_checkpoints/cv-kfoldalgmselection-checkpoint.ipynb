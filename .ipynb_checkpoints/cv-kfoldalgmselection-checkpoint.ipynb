{
 "cells": [
  {
   "cell_type": "code",
   "execution_count": 20,
   "id": "0bd2fcb0-eb77-4681-8cfc-c4017a047c3e",
   "metadata": {},
   "outputs": [],
   "source": [
    "import sklearn\n",
    "from matplotlib import pyplot as plt\n",
    "import pandas as pd\n",
    "import numpy as np\n",
    "from sklearn.datasets import load_digits\n",
    "data=load_digits()\n",
    "x=data[\"data\"]\n",
    "y=data[\"target\"]"
   ]
  },
  {
   "cell_type": "code",
   "execution_count": 21,
   "id": "4b5e010a-59cc-49ab-be25-997967268dec",
   "metadata": {},
   "outputs": [],
   "source": [
    "from sklearn.model_selection import KFold\n",
    "fd=KFold(5)"
   ]
  },
  {
   "cell_type": "code",
   "execution_count": 22,
   "id": "4ea1b46d-a57f-4853-9a0d-c9d359c92cac",
   "metadata": {},
   "outputs": [],
   "source": [
    "from sklearn.linear_model import LogisticRegression\n",
    "from sklearn.tree import DecisionTreeClassifier\n",
    "from sklearn.ensemble import RandomForestClassifier"
   ]
  },
  {
   "cell_type": "code",
   "execution_count": 23,
   "id": "22a5f645-fec3-4958-8930-dbf36283d630",
   "metadata": {},
   "outputs": [],
   "source": [
    "#to find the score of each algorithms\n",
    "log_score=[]\n",
    "dec_score=[]\n",
    "ran_score=[]"
   ]
  },
  {
   "cell_type": "code",
   "execution_count": 24,
   "id": "74e96d02-6421-4683-b40f-aa930a86b9f7",
   "metadata": {},
   "outputs": [
    {
     "name": "stderr",
     "output_type": "stream",
     "text": [
      "C:\\Users\\USER\\anaconda3\\lib\\site-packages\\sklearn\\linear_model\\_logistic.py:444: ConvergenceWarning: lbfgs failed to converge (status=1):\n",
      "STOP: TOTAL NO. of ITERATIONS REACHED LIMIT.\n",
      "\n",
      "Increase the number of iterations (max_iter) or scale the data as shown in:\n",
      "    https://scikit-learn.org/stable/modules/preprocessing.html\n",
      "Please also refer to the documentation for alternative solver options:\n",
      "    https://scikit-learn.org/stable/modules/linear_model.html#logistic-regression\n",
      "  n_iter_i = _check_optimize_result(\n",
      "C:\\Users\\USER\\anaconda3\\lib\\site-packages\\sklearn\\linear_model\\_logistic.py:444: ConvergenceWarning: lbfgs failed to converge (status=1):\n",
      "STOP: TOTAL NO. of ITERATIONS REACHED LIMIT.\n",
      "\n",
      "Increase the number of iterations (max_iter) or scale the data as shown in:\n",
      "    https://scikit-learn.org/stable/modules/preprocessing.html\n",
      "Please also refer to the documentation for alternative solver options:\n",
      "    https://scikit-learn.org/stable/modules/linear_model.html#logistic-regression\n",
      "  n_iter_i = _check_optimize_result(\n",
      "C:\\Users\\USER\\anaconda3\\lib\\site-packages\\sklearn\\linear_model\\_logistic.py:444: ConvergenceWarning: lbfgs failed to converge (status=1):\n",
      "STOP: TOTAL NO. of ITERATIONS REACHED LIMIT.\n",
      "\n",
      "Increase the number of iterations (max_iter) or scale the data as shown in:\n",
      "    https://scikit-learn.org/stable/modules/preprocessing.html\n",
      "Please also refer to the documentation for alternative solver options:\n",
      "    https://scikit-learn.org/stable/modules/linear_model.html#logistic-regression\n",
      "  n_iter_i = _check_optimize_result(\n",
      "C:\\Users\\USER\\anaconda3\\lib\\site-packages\\sklearn\\linear_model\\_logistic.py:444: ConvergenceWarning: lbfgs failed to converge (status=1):\n",
      "STOP: TOTAL NO. of ITERATIONS REACHED LIMIT.\n",
      "\n",
      "Increase the number of iterations (max_iter) or scale the data as shown in:\n",
      "    https://scikit-learn.org/stable/modules/preprocessing.html\n",
      "Please also refer to the documentation for alternative solver options:\n",
      "    https://scikit-learn.org/stable/modules/linear_model.html#logistic-regression\n",
      "  n_iter_i = _check_optimize_result(\n",
      "C:\\Users\\USER\\anaconda3\\lib\\site-packages\\sklearn\\linear_model\\_logistic.py:444: ConvergenceWarning: lbfgs failed to converge (status=1):\n",
      "STOP: TOTAL NO. of ITERATIONS REACHED LIMIT.\n",
      "\n",
      "Increase the number of iterations (max_iter) or scale the data as shown in:\n",
      "    https://scikit-learn.org/stable/modules/preprocessing.html\n",
      "Please also refer to the documentation for alternative solver options:\n",
      "    https://scikit-learn.org/stable/modules/linear_model.html#logistic-regression\n",
      "  n_iter_i = _check_optimize_result(\n"
     ]
    },
    {
     "name": "stdout",
     "output_type": "stream",
     "text": [
      "-----------------------------------------------------------------------\n"
     ]
    }
   ],
   "source": [
    "for i in fd.split(x,y):\n",
    "    train_index,test_index=i\n",
    "    xtrain=x[train_index]\n",
    "    ytrain=y[train_index]\n",
    "    xtest=x[test_index]\n",
    "    ytest=y[test_index]\n",
    "#logistic\n",
    "    logmodel=LogisticRegression()\n",
    "    logmodel.fit(xtrain,ytrain)\n",
    "    log_score.append(logmodel.score(xtest,ytest))\n",
    "#decision tree\n",
    "    decmodel=DecisionTreeClassifier()\n",
    "    decmodel.fit(xtrain,ytrain)\n",
    "    dec_score.append(decmodel.score(xtest,ytest))\n",
    "#random forest\n",
    "    ranmodel=RandomForestClassifier()\n",
    "    ranmodel.fit(xtrain,ytrain)\n",
    "    ran_score.append(ranmodel.score(xtest,ytest))\n",
    "print(\"-----------------------------------------------------------------------\")                                  \n",
    "    "
   ]
  },
  {
   "cell_type": "code",
   "execution_count": 25,
   "id": "63367312-db48-49df-bd71-8d242b0c4a97",
   "metadata": {},
   "outputs": [
    {
     "data": {
      "text/plain": [
       "[0.9277777777777778,\n",
       " 0.8666666666666667,\n",
       " 0.9387186629526463,\n",
       " 0.935933147632312,\n",
       " 0.9080779944289693]"
      ]
     },
     "execution_count": 25,
     "metadata": {},
     "output_type": "execute_result"
    }
   ],
   "source": [
    "log_score"
   ]
  },
  {
   "cell_type": "code",
   "execution_count": 26,
   "id": "5a16196d-0aed-4f9d-b5bc-bf55a154d47c",
   "metadata": {},
   "outputs": [
    {
     "data": {
      "text/plain": [
       "[0.775,\n",
       " 0.7333333333333333,\n",
       " 0.7910863509749304,\n",
       " 0.841225626740947,\n",
       " 0.7855153203342619]"
      ]
     },
     "execution_count": 26,
     "metadata": {},
     "output_type": "execute_result"
    }
   ],
   "source": [
    "dec_score"
   ]
  },
  {
   "cell_type": "code",
   "execution_count": 27,
   "id": "13f470ee-b91c-4b4b-866b-89df7ac098d9",
   "metadata": {},
   "outputs": [
    {
     "data": {
      "text/plain": [
       "[0.9444444444444444,\n",
       " 0.9194444444444444,\n",
       " 0.9554317548746518,\n",
       " 0.958217270194986,\n",
       " 0.9303621169916435]"
      ]
     },
     "execution_count": 27,
     "metadata": {},
     "output_type": "execute_result"
    }
   ],
   "source": [
    "ran_score"
   ]
  },
  {
   "cell_type": "code",
   "execution_count": 29,
   "id": "46d9976f-3c98-4838-9e42-4ecddc1c6a2d",
   "metadata": {},
   "outputs": [
    {
     "data": {
      "text/plain": [
       "0.9154348498916743"
      ]
     },
     "execution_count": 29,
     "metadata": {},
     "output_type": "execute_result"
    }
   ],
   "source": [
    "np.array(log_score).mean()"
   ]
  },
  {
   "cell_type": "code",
   "execution_count": 30,
   "id": "deb2f097-845a-4576-a4e4-4514e1034952",
   "metadata": {},
   "outputs": [
    {
     "data": {
      "text/plain": [
       "0.7852321262766945"
      ]
     },
     "execution_count": 30,
     "metadata": {},
     "output_type": "execute_result"
    }
   ],
   "source": [
    "np.array(dec_score).mean()"
   ]
  },
  {
   "cell_type": "code",
   "execution_count": 31,
   "id": "241d6612-00e4-487c-b882-f4bdcf3b9bc2",
   "metadata": {},
   "outputs": [
    {
     "data": {
      "text/plain": [
       "0.941580006190034"
      ]
     },
     "execution_count": 31,
     "metadata": {},
     "output_type": "execute_result"
    }
   ],
   "source": [
    "np.array(ran_score).mean()"
   ]
  },
  {
   "cell_type": "code",
   "execution_count": null,
   "id": "73f897c0-e2ff-4a44-95a1-df8828e36b91",
   "metadata": {},
   "outputs": [],
   "source": []
  }
 ],
 "metadata": {
  "kernelspec": {
   "display_name": "Python 3 (ipykernel)",
   "language": "python",
   "name": "python3"
  },
  "language_info": {
   "codemirror_mode": {
    "name": "ipython",
    "version": 3
   },
   "file_extension": ".py",
   "mimetype": "text/x-python",
   "name": "python",
   "nbconvert_exporter": "python",
   "pygments_lexer": "ipython3",
   "version": "3.9.7"
  }
 },
 "nbformat": 4,
 "nbformat_minor": 5
}
